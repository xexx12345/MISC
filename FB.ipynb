{
 "cells": [
  {
   "cell_type": "code",
   "execution_count": 29,
   "metadata": {
    "collapsed": true
   },
   "outputs": [],
   "source": [
    "from pandas_datareader import data\n",
    "import pandas as pd\n",
    "import matplotlib.pyplot as plt\n",
    "from datetime import date\n",
    "import numpy as np\n",
    "%matplotlib inline"
   ]
  },
  {
   "cell_type": "code",
   "execution_count": 30,
   "metadata": {
    "collapsed": true
   },
   "outputs": [],
   "source": [
    "FB = pd.read_csv('FB.csv')"
   ]
  },
  {
   "cell_type": "code",
   "execution_count": 31,
   "metadata": {},
   "outputs": [
    {
     "data": {
      "text/html": [
       "<div>\n",
       "<style>\n",
       "    .dataframe thead tr:only-child th {\n",
       "        text-align: right;\n",
       "    }\n",
       "\n",
       "    .dataframe thead th {\n",
       "        text-align: left;\n",
       "    }\n",
       "\n",
       "    .dataframe tbody tr th {\n",
       "        vertical-align: top;\n",
       "    }\n",
       "</style>\n",
       "<table border=\"1\" class=\"dataframe\">\n",
       "  <thead>\n",
       "    <tr style=\"text-align: right;\">\n",
       "      <th></th>\n",
       "      <th>Date</th>\n",
       "      <th>Open</th>\n",
       "      <th>High</th>\n",
       "      <th>Low</th>\n",
       "      <th>Close</th>\n",
       "      <th>Adj Close</th>\n",
       "      <th>Volume</th>\n",
       "    </tr>\n",
       "  </thead>\n",
       "  <tbody>\n",
       "    <tr>\n",
       "      <th>0</th>\n",
       "      <td>2012-05-18</td>\n",
       "      <td>42.049999</td>\n",
       "      <td>45.000000</td>\n",
       "      <td>38.000000</td>\n",
       "      <td>38.230000</td>\n",
       "      <td>38.230000</td>\n",
       "      <td>573576400</td>\n",
       "    </tr>\n",
       "    <tr>\n",
       "      <th>1</th>\n",
       "      <td>2012-05-21</td>\n",
       "      <td>36.529999</td>\n",
       "      <td>36.660000</td>\n",
       "      <td>33.000000</td>\n",
       "      <td>34.029999</td>\n",
       "      <td>34.029999</td>\n",
       "      <td>168192700</td>\n",
       "    </tr>\n",
       "    <tr>\n",
       "      <th>2</th>\n",
       "      <td>2012-05-22</td>\n",
       "      <td>32.610001</td>\n",
       "      <td>33.590000</td>\n",
       "      <td>30.940001</td>\n",
       "      <td>31.000000</td>\n",
       "      <td>31.000000</td>\n",
       "      <td>101786600</td>\n",
       "    </tr>\n",
       "    <tr>\n",
       "      <th>3</th>\n",
       "      <td>2012-05-23</td>\n",
       "      <td>31.370001</td>\n",
       "      <td>32.500000</td>\n",
       "      <td>31.360001</td>\n",
       "      <td>32.000000</td>\n",
       "      <td>32.000000</td>\n",
       "      <td>73600000</td>\n",
       "    </tr>\n",
       "    <tr>\n",
       "      <th>4</th>\n",
       "      <td>2012-05-24</td>\n",
       "      <td>32.950001</td>\n",
       "      <td>33.209999</td>\n",
       "      <td>31.770000</td>\n",
       "      <td>33.029999</td>\n",
       "      <td>33.029999</td>\n",
       "      <td>50237200</td>\n",
       "    </tr>\n",
       "    <tr>\n",
       "      <th>5</th>\n",
       "      <td>2012-05-25</td>\n",
       "      <td>32.900002</td>\n",
       "      <td>32.950001</td>\n",
       "      <td>31.110001</td>\n",
       "      <td>31.910000</td>\n",
       "      <td>31.910000</td>\n",
       "      <td>37149800</td>\n",
       "    </tr>\n",
       "    <tr>\n",
       "      <th>6</th>\n",
       "      <td>2012-05-29</td>\n",
       "      <td>31.480000</td>\n",
       "      <td>31.690001</td>\n",
       "      <td>28.650000</td>\n",
       "      <td>28.840000</td>\n",
       "      <td>28.840000</td>\n",
       "      <td>78063400</td>\n",
       "    </tr>\n",
       "    <tr>\n",
       "      <th>7</th>\n",
       "      <td>2012-05-30</td>\n",
       "      <td>28.700001</td>\n",
       "      <td>29.549999</td>\n",
       "      <td>27.860001</td>\n",
       "      <td>28.190001</td>\n",
       "      <td>28.190001</td>\n",
       "      <td>57267900</td>\n",
       "    </tr>\n",
       "    <tr>\n",
       "      <th>8</th>\n",
       "      <td>2012-05-31</td>\n",
       "      <td>28.549999</td>\n",
       "      <td>29.670000</td>\n",
       "      <td>26.830000</td>\n",
       "      <td>29.600000</td>\n",
       "      <td>29.600000</td>\n",
       "      <td>111639200</td>\n",
       "    </tr>\n",
       "    <tr>\n",
       "      <th>9</th>\n",
       "      <td>2012-06-01</td>\n",
       "      <td>28.889999</td>\n",
       "      <td>29.150000</td>\n",
       "      <td>27.389999</td>\n",
       "      <td>27.719999</td>\n",
       "      <td>27.719999</td>\n",
       "      <td>41855500</td>\n",
       "    </tr>\n",
       "  </tbody>\n",
       "</table>\n",
       "</div>"
      ],
      "text/plain": [
       "         Date       Open       High        Low      Close  Adj Close  \\\n",
       "0  2012-05-18  42.049999  45.000000  38.000000  38.230000  38.230000   \n",
       "1  2012-05-21  36.529999  36.660000  33.000000  34.029999  34.029999   \n",
       "2  2012-05-22  32.610001  33.590000  30.940001  31.000000  31.000000   \n",
       "3  2012-05-23  31.370001  32.500000  31.360001  32.000000  32.000000   \n",
       "4  2012-05-24  32.950001  33.209999  31.770000  33.029999  33.029999   \n",
       "5  2012-05-25  32.900002  32.950001  31.110001  31.910000  31.910000   \n",
       "6  2012-05-29  31.480000  31.690001  28.650000  28.840000  28.840000   \n",
       "7  2012-05-30  28.700001  29.549999  27.860001  28.190001  28.190001   \n",
       "8  2012-05-31  28.549999  29.670000  26.830000  29.600000  29.600000   \n",
       "9  2012-06-01  28.889999  29.150000  27.389999  27.719999  27.719999   \n",
       "\n",
       "      Volume  \n",
       "0  573576400  \n",
       "1  168192700  \n",
       "2  101786600  \n",
       "3   73600000  \n",
       "4   50237200  \n",
       "5   37149800  \n",
       "6   78063400  \n",
       "7   57267900  \n",
       "8  111639200  \n",
       "9   41855500  "
      ]
     },
     "execution_count": 31,
     "metadata": {},
     "output_type": "execute_result"
    }
   ],
   "source": [
    "FB.head(10)"
   ]
  },
  {
   "cell_type": "code",
   "execution_count": 32,
   "metadata": {
    "collapsed": true
   },
   "outputs": [],
   "source": [
    "def ichimoku_cloud(df,w9,w26,w52,chikou26):\n",
    "    #crypto settings are 20, 60, 120, 30 see Josh video for confirmation\n",
    "    #https://www.youtube.com/watch?v=5x0r-qcGoQQ&t=1s\n",
    "    \n",
    "    \n",
    "    # Tenkan-sen (Conversion Line): (9-period high + 9-period low)/2))\n",
    "    df['period9_high'] = pd.Series.rolling(df['High'], w9).max()\n",
    "    df['period9_low'] = pd.Series.rolling(df['Low'], w9).min()\n",
    "    df['tenkan_sen'] = (df['period9_high'] + df['period9_low']) / 2\n",
    "    \n",
    "    # Kijun-sen (Base Line): (26-period high + 26-period low)/2))\n",
    "    df['period26_high'] = pd.Series.rolling(df['High'], w26).max()\n",
    "    df['period26_low'] = pd.Series.rolling(df['Low'], w26).min()\n",
    "    df['kijun_sen'] = (df['period26_high'] + df['period26_low']) / 2\n",
    "    \n",
    "    df['period52_high'] = pd.Series.rolling(df['High'], w52).max()\n",
    "    df['period52_low'] = pd.Series.rolling(df['Low'], w52).min()\n",
    "    df['senkou_span_b'] = (df['period52_high'] + df['period52_low'] ) /2 \n",
    "    \n",
    "    df ['chikou_span'] = df['Close'].shift(chikou26) \n",
    "    return df\n"
   ]
  },
  {
   "cell_type": "code",
   "execution_count": 33,
   "metadata": {},
   "outputs": [],
   "source": [
    "ichimoku_cloud(FB,9,26,52,26)\n",
    "FB.dropna(inplace = True)"
   ]
  },
  {
   "cell_type": "code",
   "execution_count": null,
   "metadata": {
    "collapsed": true
   },
   "outputs": [],
   "source": [
    "\n",
    "def returns_df(df):\n",
    "    df['position'] = None\n",
    "    for row in range(len(df)):\n",
    "        if df['tenkan_sen'].iloc[row] > df['kijun_sen'].iloc[row]:\n",
    "            df['position'].iloc[row] = 1\n",
    "        else:\n",
    "            df['position'].iloc[row] = -1\n",
    "    df['position'].fillna(method = 'ffill', inplace = True)\n",
    "    df['market return'] = np.log(df['Close'] / df['Close'].shift(1))\n",
    "    df['strategy return'] = df['position'] * df['market return']\n",
    "    \n",
    "            \n",
    "    return df"
   ]
  },
  {
   "cell_type": "code",
   "execution_count": null,
   "metadata": {},
   "outputs": [
    {
     "name": "stderr",
     "output_type": "stream",
     "text": [
      "C:\\Users\\scheng\\AppData\\Local\\Continuum\\Anaconda3\\lib\\site-packages\\pandas\\core\\indexing.py:179: SettingWithCopyWarning: \n",
      "A value is trying to be set on a copy of a slice from a DataFrame\n",
      "\n",
      "See the caveats in the documentation: http://pandas.pydata.org/pandas-docs/stable/indexing.html#indexing-view-versus-copy\n",
      "  self._setitem_with_indexer(indexer, value)\n"
     ]
    }
   ],
   "source": [
    "returns_df(FB)"
   ]
  },
  {
   "cell_type": "code",
   "execution_count": null,
   "metadata": {
    "collapsed": true
   },
   "outputs": [],
   "source": []
  }
 ],
 "metadata": {
  "kernelspec": {
   "display_name": "Python 3",
   "language": "python",
   "name": "python3"
  },
  "language_info": {
   "codemirror_mode": {
    "name": "ipython",
    "version": 3
   },
   "file_extension": ".py",
   "mimetype": "text/x-python",
   "name": "python",
   "nbconvert_exporter": "python",
   "pygments_lexer": "ipython3",
   "version": "3.6.1"
  }
 },
 "nbformat": 4,
 "nbformat_minor": 2
}
