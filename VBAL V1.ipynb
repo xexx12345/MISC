{
 "cells": [
  {
   "cell_type": "code",
   "execution_count": 1,
   "metadata": {
    "collapsed": true
   },
   "outputs": [],
   "source": [
    "from pandas_datareader import data\n",
    "import pandas as pd\n",
    "import matplotlib.pyplot as plt\n",
    "from datetime import date\n",
    "import numpy as np\n",
    "%matplotlib inline  "
   ]
  },
  {
   "cell_type": "code",
   "execution_count": 2,
   "metadata": {
    "collapsed": true
   },
   "outputs": [],
   "source": [
    "tickers = ['VCN.TO','VUN.TO','VIU.TO','VEE.TO','VAB.TO','VBU.TO','VBG.TO','ZAG.TO','XAW.TO']"
   ]
  },
  {
   "cell_type": "code",
   "execution_count": 3,
   "metadata": {
    "collapsed": true
   },
   "outputs": [],
   "source": [
    "start_date = '2017-01-01'\n",
    "end_date = '2018-02-12'"
   ]
  },
  {
   "cell_type": "code",
   "execution_count": 4,
   "metadata": {},
   "outputs": [],
   "source": [
    "panel_data = data.DataReader(tickers, 'yahoo', start_date, end_date)"
   ]
  },
  {
   "cell_type": "code",
   "execution_count": 5,
   "metadata": {},
   "outputs": [
    {
     "name": "stderr",
     "output_type": "stream",
     "text": [
      "C:\\Users\\scheng\\AppData\\Local\\Continuum\\Anaconda3\\lib\\site-packages\\ipykernel_launcher.py:1: DeprecationWarning: \n",
      ".ix is deprecated. Please use\n",
      ".loc for label based indexing or\n",
      ".iloc for positional indexing\n",
      "\n",
      "See the documentation here:\n",
      "http://pandas.pydata.org/pandas-docs/stable/indexing.html#deprecate_ix\n",
      "  \"\"\"Entry point for launching an IPython kernel.\n"
     ]
    }
   ],
   "source": [
    "close = panel_data.ix['Close']"
   ]
  },
  {
   "cell_type": "code",
   "execution_count": 6,
   "metadata": {},
   "outputs": [
    {
     "data": {
      "text/html": [
       "<div>\n",
       "<style>\n",
       "    .dataframe thead tr:only-child th {\n",
       "        text-align: right;\n",
       "    }\n",
       "\n",
       "    .dataframe thead th {\n",
       "        text-align: left;\n",
       "    }\n",
       "\n",
       "    .dataframe tbody tr th {\n",
       "        vertical-align: top;\n",
       "    }\n",
       "</style>\n",
       "<table border=\"1\" class=\"dataframe\">\n",
       "  <thead>\n",
       "    <tr style=\"text-align: right;\">\n",
       "      <th></th>\n",
       "      <th>VAB.TO</th>\n",
       "      <th>VBG.TO</th>\n",
       "      <th>VBU.TO</th>\n",
       "      <th>VCN.TO</th>\n",
       "      <th>VEE.TO</th>\n",
       "      <th>VIU.TO</th>\n",
       "      <th>VUN.TO</th>\n",
       "      <th>XAW.TO</th>\n",
       "      <th>ZAG.TO</th>\n",
       "    </tr>\n",
       "  </thead>\n",
       "  <tbody>\n",
       "    <tr>\n",
       "      <th>2017-01-03</th>\n",
       "      <td>25.459999</td>\n",
       "      <td>26.490000</td>\n",
       "      <td>24.799999</td>\n",
       "      <td>31.150000</td>\n",
       "      <td>29.230000</td>\n",
       "      <td>24.610001</td>\n",
       "      <td>42.430000</td>\n",
       "      <td>21.900000</td>\n",
       "      <td>15.63</td>\n",
       "    </tr>\n",
       "    <tr>\n",
       "      <th>2017-01-04</th>\n",
       "      <td>25.440001</td>\n",
       "      <td>26.450001</td>\n",
       "      <td>24.870001</td>\n",
       "      <td>31.410000</td>\n",
       "      <td>29.240000</td>\n",
       "      <td>24.650000</td>\n",
       "      <td>42.369999</td>\n",
       "      <td>21.930000</td>\n",
       "      <td>15.68</td>\n",
       "    </tr>\n",
       "    <tr>\n",
       "      <th>2017-01-05</th>\n",
       "      <td>25.459999</td>\n",
       "      <td>26.530001</td>\n",
       "      <td>24.969999</td>\n",
       "      <td>31.559999</td>\n",
       "      <td>29.400000</td>\n",
       "      <td>24.790001</td>\n",
       "      <td>42.099998</td>\n",
       "      <td>21.870001</td>\n",
       "      <td>15.70</td>\n",
       "    </tr>\n",
       "    <tr>\n",
       "      <th>2017-01-06</th>\n",
       "      <td>25.389999</td>\n",
       "      <td>26.469999</td>\n",
       "      <td>24.889999</td>\n",
       "      <td>31.400000</td>\n",
       "      <td>29.250000</td>\n",
       "      <td>24.660000</td>\n",
       "      <td>42.240002</td>\n",
       "      <td>21.879999</td>\n",
       "      <td>15.65</td>\n",
       "    </tr>\n",
       "    <tr>\n",
       "      <th>2017-01-09</th>\n",
       "      <td>25.469999</td>\n",
       "      <td>26.500000</td>\n",
       "      <td>24.930000</td>\n",
       "      <td>31.180000</td>\n",
       "      <td>29.190001</td>\n",
       "      <td>24.600000</td>\n",
       "      <td>42.020000</td>\n",
       "      <td>21.809999</td>\n",
       "      <td>15.68</td>\n",
       "    </tr>\n",
       "    <tr>\n",
       "      <th>2017-01-10</th>\n",
       "      <td>25.469999</td>\n",
       "      <td>26.490000</td>\n",
       "      <td>24.940001</td>\n",
       "      <td>31.260000</td>\n",
       "      <td>29.400000</td>\n",
       "      <td>24.570000</td>\n",
       "      <td>42.070000</td>\n",
       "      <td>21.840000</td>\n",
       "      <td>15.69</td>\n",
       "    </tr>\n",
       "    <tr>\n",
       "      <th>2017-01-11</th>\n",
       "      <td>25.500000</td>\n",
       "      <td>26.530001</td>\n",
       "      <td>24.940001</td>\n",
       "      <td>31.379999</td>\n",
       "      <td>29.469999</td>\n",
       "      <td>24.570000</td>\n",
       "      <td>41.990002</td>\n",
       "      <td>21.820000</td>\n",
       "      <td>15.69</td>\n",
       "    </tr>\n",
       "    <tr>\n",
       "      <th>2017-01-12</th>\n",
       "      <td>25.510000</td>\n",
       "      <td>26.520000</td>\n",
       "      <td>24.950001</td>\n",
       "      <td>31.250000</td>\n",
       "      <td>29.459999</td>\n",
       "      <td>24.610001</td>\n",
       "      <td>41.779999</td>\n",
       "      <td>21.719999</td>\n",
       "      <td>15.71</td>\n",
       "    </tr>\n",
       "    <tr>\n",
       "      <th>2017-01-13</th>\n",
       "      <td>25.400000</td>\n",
       "      <td>26.490000</td>\n",
       "      <td>24.879999</td>\n",
       "      <td>31.379999</td>\n",
       "      <td>29.420000</td>\n",
       "      <td>24.700001</td>\n",
       "      <td>41.840000</td>\n",
       "      <td>21.809999</td>\n",
       "      <td>15.66</td>\n",
       "    </tr>\n",
       "    <tr>\n",
       "      <th>2017-01-16</th>\n",
       "      <td>25.410000</td>\n",
       "      <td>26.490000</td>\n",
       "      <td>24.959999</td>\n",
       "      <td>31.330000</td>\n",
       "      <td>29.469999</td>\n",
       "      <td>24.730000</td>\n",
       "      <td>42.389999</td>\n",
       "      <td>22.200001</td>\n",
       "      <td>15.69</td>\n",
       "    </tr>\n",
       "  </tbody>\n",
       "</table>\n",
       "</div>"
      ],
      "text/plain": [
       "               VAB.TO     VBG.TO     VBU.TO     VCN.TO     VEE.TO     VIU.TO  \\\n",
       "2017-01-03  25.459999  26.490000  24.799999  31.150000  29.230000  24.610001   \n",
       "2017-01-04  25.440001  26.450001  24.870001  31.410000  29.240000  24.650000   \n",
       "2017-01-05  25.459999  26.530001  24.969999  31.559999  29.400000  24.790001   \n",
       "2017-01-06  25.389999  26.469999  24.889999  31.400000  29.250000  24.660000   \n",
       "2017-01-09  25.469999  26.500000  24.930000  31.180000  29.190001  24.600000   \n",
       "2017-01-10  25.469999  26.490000  24.940001  31.260000  29.400000  24.570000   \n",
       "2017-01-11  25.500000  26.530001  24.940001  31.379999  29.469999  24.570000   \n",
       "2017-01-12  25.510000  26.520000  24.950001  31.250000  29.459999  24.610001   \n",
       "2017-01-13  25.400000  26.490000  24.879999  31.379999  29.420000  24.700001   \n",
       "2017-01-16  25.410000  26.490000  24.959999  31.330000  29.469999  24.730000   \n",
       "\n",
       "               VUN.TO     XAW.TO  ZAG.TO  \n",
       "2017-01-03  42.430000  21.900000   15.63  \n",
       "2017-01-04  42.369999  21.930000   15.68  \n",
       "2017-01-05  42.099998  21.870001   15.70  \n",
       "2017-01-06  42.240002  21.879999   15.65  \n",
       "2017-01-09  42.020000  21.809999   15.68  \n",
       "2017-01-10  42.070000  21.840000   15.69  \n",
       "2017-01-11  41.990002  21.820000   15.69  \n",
       "2017-01-12  41.779999  21.719999   15.71  \n",
       "2017-01-13  41.840000  21.809999   15.66  \n",
       "2017-01-16  42.389999  22.200001   15.69  "
      ]
     },
     "execution_count": 6,
     "metadata": {},
     "output_type": "execute_result"
    }
   ],
   "source": [
    "all_weekdays = pd.date_range(start=start_date, end=end_date, freq='B')\n",
    "close = close.reindex(all_weekdays)\n",
    "close = close.dropna()\n",
    "close.head(10)"
   ]
  },
  {
   "cell_type": "code",
   "execution_count": 7,
   "metadata": {
    "collapsed": true
   },
   "outputs": [],
   "source": [
    "close['VBAL_INDEX'] = 0.18 * close['VCN.TO'] + 0.226 * close['VUN.TO'] \\\n",
    "+ 0.15 * close['VIU.TO'] + 0.044 * close['VEE.TO'] \\\n",
    "+ 0.235 * close['VAB.TO'] + 0.072 * close['VBU.TO'] + 0.093 * close['VBG.TO']"
   ]
  },
  {
   "cell_type": "code",
   "execution_count": 8,
   "metadata": {
    "collapsed": true
   },
   "outputs": [],
   "source": [
    "close['VGRO_INDEX'] = 0.24 * close['VCN.TO'] + 0.301 * close['VUN.TO'] \\\n",
    "+ 0.20 * close['VIU.TO'] + 0.059 * close['VEE.TO'] \\\n",
    "+ 0.117 * close['VAB.TO'] + 0.036 * close['VBU.TO'] + 0.047 * close['VBG.TO']"
   ]
  },
  {
   "cell_type": "code",
   "execution_count": 20,
   "metadata": {
    "collapsed": true
   },
   "outputs": [],
   "source": [
    "close['COUCH_ASSERTIVE'] = 0.10 * close['ZAG.TO'] + 0.30 * close['VCN.TO'] \\\n",
    "+ 0.60 * close['XAW.TO'] "
   ]
  },
  {
   "cell_type": "code",
   "execution_count": null,
   "metadata": {
    "collapsed": true
   },
   "outputs": [],
   "source": []
  },
  {
   "cell_type": "code",
   "execution_count": 21,
   "metadata": {},
   "outputs": [
    {
     "data": {
      "text/html": [
       "<div>\n",
       "<style>\n",
       "    .dataframe thead tr:only-child th {\n",
       "        text-align: right;\n",
       "    }\n",
       "\n",
       "    .dataframe thead th {\n",
       "        text-align: left;\n",
       "    }\n",
       "\n",
       "    .dataframe tbody tr th {\n",
       "        vertical-align: top;\n",
       "    }\n",
       "</style>\n",
       "<table border=\"1\" class=\"dataframe\">\n",
       "  <thead>\n",
       "    <tr style=\"text-align: right;\">\n",
       "      <th></th>\n",
       "      <th>VAB.TO</th>\n",
       "      <th>VBG.TO</th>\n",
       "      <th>VBU.TO</th>\n",
       "      <th>VCN.TO</th>\n",
       "      <th>VEE.TO</th>\n",
       "      <th>VIU.TO</th>\n",
       "      <th>VUN.TO</th>\n",
       "      <th>XAW.TO</th>\n",
       "      <th>ZAG.TO</th>\n",
       "      <th>VBAL_INDEX</th>\n",
       "      <th>VGRO_INDEX</th>\n",
       "      <th>COUCH_ASSERTIVE</th>\n",
       "      <th>VBAL_RETURN</th>\n",
       "      <th>VGRO_RETURN</th>\n",
       "    </tr>\n",
       "  </thead>\n",
       "  <tbody>\n",
       "    <tr>\n",
       "      <th>2017-01-03</th>\n",
       "      <td>25.459999</td>\n",
       "      <td>26.490000</td>\n",
       "      <td>24.799999</td>\n",
       "      <td>31.150000</td>\n",
       "      <td>29.230000</td>\n",
       "      <td>24.610001</td>\n",
       "      <td>42.430000</td>\n",
       "      <td>21.900000</td>\n",
       "      <td>15.63</td>\n",
       "      <td>30.406070</td>\n",
       "      <td>32.010650</td>\n",
       "      <td>NaN</td>\n",
       "      <td>NaN</td>\n",
       "      <td>NaN</td>\n",
       "    </tr>\n",
       "    <tr>\n",
       "      <th>2017-01-04</th>\n",
       "      <td>25.440001</td>\n",
       "      <td>26.450001</td>\n",
       "      <td>24.870001</td>\n",
       "      <td>31.410000</td>\n",
       "      <td>29.240000</td>\n",
       "      <td>24.650000</td>\n",
       "      <td>42.369999</td>\n",
       "      <td>21.930000</td>\n",
       "      <td>15.68</td>\n",
       "      <td>30.442370</td>\n",
       "      <td>32.061880</td>\n",
       "      <td>0.004191</td>\n",
       "      <td>0.001193</td>\n",
       "      <td>0.001599</td>\n",
       "    </tr>\n",
       "    <tr>\n",
       "      <th>2017-01-05</th>\n",
       "      <td>25.459999</td>\n",
       "      <td>26.530001</td>\n",
       "      <td>24.969999</td>\n",
       "      <td>31.559999</td>\n",
       "      <td>29.400000</td>\n",
       "      <td>24.790001</td>\n",
       "      <td>42.099998</td>\n",
       "      <td>21.870001</td>\n",
       "      <td>15.70</td>\n",
       "      <td>30.455729</td>\n",
       "      <td>32.063749</td>\n",
       "      <td>0.000455</td>\n",
       "      <td>0.000439</td>\n",
       "      <td>0.000058</td>\n",
       "    </tr>\n",
       "    <tr>\n",
       "      <th>2017-01-06</th>\n",
       "      <td>25.389999</td>\n",
       "      <td>26.469999</td>\n",
       "      <td>24.889999</td>\n",
       "      <td>31.400000</td>\n",
       "      <td>29.250000</td>\n",
       "      <td>24.660000</td>\n",
       "      <td>42.240002</td>\n",
       "      <td>21.879999</td>\n",
       "      <td>15.65</td>\n",
       "      <td>30.404680</td>\n",
       "      <td>32.018750</td>\n",
       "      <td>-0.001947</td>\n",
       "      <td>-0.001678</td>\n",
       "      <td>-0.001404</td>\n",
       "    </tr>\n",
       "    <tr>\n",
       "      <th>2017-01-09</th>\n",
       "      <td>25.469999</td>\n",
       "      <td>26.500000</td>\n",
       "      <td>24.930000</td>\n",
       "      <td>31.180000</td>\n",
       "      <td>29.190001</td>\n",
       "      <td>24.600000</td>\n",
       "      <td>42.020000</td>\n",
       "      <td>21.809999</td>\n",
       "      <td>15.68</td>\n",
       "      <td>30.328190</td>\n",
       "      <td>31.896400</td>\n",
       "      <td>-0.004364</td>\n",
       "      <td>-0.002519</td>\n",
       "      <td>-0.003829</td>\n",
       "    </tr>\n",
       "  </tbody>\n",
       "</table>\n",
       "</div>"
      ],
      "text/plain": [
       "               VAB.TO     VBG.TO     VBU.TO     VCN.TO     VEE.TO     VIU.TO  \\\n",
       "2017-01-03  25.459999  26.490000  24.799999  31.150000  29.230000  24.610001   \n",
       "2017-01-04  25.440001  26.450001  24.870001  31.410000  29.240000  24.650000   \n",
       "2017-01-05  25.459999  26.530001  24.969999  31.559999  29.400000  24.790001   \n",
       "2017-01-06  25.389999  26.469999  24.889999  31.400000  29.250000  24.660000   \n",
       "2017-01-09  25.469999  26.500000  24.930000  31.180000  29.190001  24.600000   \n",
       "\n",
       "               VUN.TO     XAW.TO  ZAG.TO  VBAL_INDEX  VGRO_INDEX  \\\n",
       "2017-01-03  42.430000  21.900000   15.63   30.406070   32.010650   \n",
       "2017-01-04  42.369999  21.930000   15.68   30.442370   32.061880   \n",
       "2017-01-05  42.099998  21.870001   15.70   30.455729   32.063749   \n",
       "2017-01-06  42.240002  21.879999   15.65   30.404680   32.018750   \n",
       "2017-01-09  42.020000  21.809999   15.68   30.328190   31.896400   \n",
       "\n",
       "            COUCH_ASSERTIVE  VBAL_RETURN  VGRO_RETURN  \n",
       "2017-01-03              NaN          NaN          NaN  \n",
       "2017-01-04         0.004191     0.001193     0.001599  \n",
       "2017-01-05         0.000455     0.000439     0.000058  \n",
       "2017-01-06        -0.001947    -0.001678    -0.001404  \n",
       "2017-01-09        -0.004364    -0.002519    -0.003829  "
      ]
     },
     "execution_count": 21,
     "metadata": {},
     "output_type": "execute_result"
    }
   ],
   "source": [
    "def return_df(df): #enters a series\n",
    "    df['VBAL_RETURN'] = np.log(df['VBAL_INDEX'] / df['VBAL_INDEX'].shift(1))\n",
    "    df['VGRO_RETURN'] = np.log(df['VGRO_INDEX'] / df['VGRO_INDEX'].shift(1))\n",
    "    df['COUCH_ASSERTIVE'] = np.log(df['COUCH_ASSERTIVE'] / df['COUCH_ASSERTIVE'].shift(1))\n",
    "    return df\n",
    "\n",
    "return_df(close).head(5)\n"
   ]
  },
  {
   "cell_type": "code",
   "execution_count": 22,
   "metadata": {},
   "outputs": [
    {
     "data": {
      "text/plain": [
       "<matplotlib.axes._subplots.AxesSubplot at 0xb823a58>"
      ]
     },
     "execution_count": 22,
     "metadata": {},
     "output_type": "execute_result"
    },
    {
     "data": {
      "image/png": "[encoded data removed]",
      "text/plain": [
       "<matplotlib.figure.Figure at 0xbeafa90>"
      ]
     },
     "metadata": {},
     "output_type": "display_data"
    }
   ],
   "source": [
    "close['VBAL_RETURN'].cumsum().plot(grid = True, figsize = (20,5), color = 'k')\n",
    "close['VGRO_RETURN'].cumsum().plot(grid = True, figsize = (20,5), color = 'g')\n",
    "close['COUCH_ASSERTIVE'].cumsum().plot(grid = True, figsize = (20,5), color = 'm')\n"
   ]
  },
  {
   "cell_type": "code",
   "execution_count": null,
   "metadata": {
    "collapsed": true
   },
   "outputs": [],
   "source": []
  },
  {
   "cell_type": "code",
   "execution_count": null,
   "metadata": {
    "collapsed": true
   },
   "outputs": [],
   "source": []
  },
  {
   "cell_type": "code",
   "execution_count": null,
   "metadata": {
    "collapsed": true
   },
   "outputs": [],
   "source": []
  },
  {
   "cell_type": "code",
   "execution_count": null,
   "metadata": {
    "collapsed": true
   },
   "outputs": [],
   "source": []
  },
  {
   "cell_type": "code",
   "execution_count": null,
   "metadata": {
    "collapsed": true
   },
   "outputs": [],
   "source": []
  }
 ],
 "metadata": {
  "kernelspec": {
   "display_name": "Python 3",
   "language": "python",
   "name": "python3"
  },
  "language_info": {
   "codemirror_mode": {
    "name": "ipython",
    "version": 3
   },
   "file_extension": ".py",
   "mimetype": "text/x-python",
   "name": "python",
   "nbconvert_exporter": "python",
   "pygments_lexer": "ipython3",
   "version": "3.6.1"
  }
 },
 "nbformat": 4,
 "nbformat_minor": 2
}
