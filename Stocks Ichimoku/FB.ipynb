{
 "cells": [
  {
   "cell_type": "code",
   "execution_count": 1,
   "metadata": {
    "collapsed": true
   },
   "outputs": [],
   "source": [
    "from pandas_datareader import data\n",
    "import pandas as pd\n",
    "import matplotlib.pyplot as plt\n",
    "from datetime import date\n",
    "import numpy as np\n",
    "%matplotlib inline"
   ]
  },
  {
   "cell_type": "code",
   "execution_count": 2,
   "metadata": {
    "collapsed": true
   },
   "outputs": [],
   "source": [
    "FB = pd.read_csv('SPX.csv')"
   ]
  },
  {
   "cell_type": "code",
   "execution_count": 3,
   "metadata": {
    "collapsed": true
   },
   "outputs": [],
   "source": [
    "def ichimoku_cloud(df,w9,w26,w52,chikou26):\n",
    "    #crypto settings are 20, 60, 120, 30 see Josh video for confirmation\n",
    "    #https://www.youtube.com/watch?v=5x0r-qcGoQQ&t=1s\n",
    "    \n",
    "    \n",
    "    # Tenkan-sen (Conversion Line): (9-period high + 9-period low)/2))\n",
    "    df['period9_high'] = pd.Series.rolling(df['High'], w9).max()\n",
    "    df['period9_low'] = pd.Series.rolling(df['Low'], w9).min()\n",
    "    df['tenkan_sen'] = (df['period9_high'] + df['period9_low']) / 2\n",
    "    \n",
    "    # Kijun-sen (Base Line): (26-period high + 26-period low)/2))\n",
    "    df['period26_high'] = pd.Series.rolling(df['High'], w26).max()\n",
    "    df['period26_low'] = pd.Series.rolling(df['Low'], w26).min()\n",
    "    df['kijun_sen'] = (df['period26_high'] + df['period26_low']) / 2\n",
    "    \n",
    "    df['period52_high'] = pd.Series.rolling(df['High'], w52).max()\n",
    "    df['period52_low'] = pd.Series.rolling(df['Low'], w52).min()\n",
    "    df['senkou_span_a'] = (df['tenkan_sen'] + df['kijun_sen']) / 2\n",
    "    df['senkou_span_b'] = (df['period52_high'] + df['period52_low'] ) /2 \n",
    "    \n",
    "    df ['chikou_span'] = df['Close'].shift(chikou26) \n",
    "    return df\n"
   ]
  },
  {
   "cell_type": "code",
   "execution_count": 4,
   "metadata": {
    "collapsed": true
   },
   "outputs": [],
   "source": [
    "ichimoku_cloud(FB,9,26,52,26)\n",
    "FB.dropna(inplace = True)"
   ]
  },
  {
   "cell_type": "code",
   "execution_count": null,
   "metadata": {
    "collapsed": true
   },
   "outputs": [],
   "source": [
    "\n",
    "def returns_df(df):\n",
    "    df['tk position'] = None\n",
    "    df['tk senkou b position'] = None\n",
    "    df['tk senkou a position'] = None\n",
    "    \n",
    "    for row in range(len(df)):\n",
    "        if df['tenkan_sen'].iloc[row] > df['kijun_sen'].iloc[row]:\n",
    "            df['tk position'].iloc[row] = 1\n",
    "        else:\n",
    "            df['tk position'].iloc[row] = -1\n",
    "\n",
    "    for row in range(len(df)):\n",
    "        if df['Adj Close'].iloc[row] > df['senkou_span_b'].iloc[row]:\n",
    "            df['tk senkou b position'].iloc[row] = 1\n",
    "        else:\n",
    "            df['tk senkou b position'].iloc[row] = -1\n",
    "\n",
    "    for row in range(len(df)):\n",
    "        if df['Adj Close'].iloc[row] > df['senkou_span_a'].iloc[row]:\n",
    "            df['tk senkou a position'].iloc[row] = 1\n",
    "        else:\n",
    "            df['tk senkou a position'].iloc[row] = -1\n",
    "            \n",
    "    df['tk position'].fillna(method = 'ffill', inplace = True)\n",
    "    df['tk senkou b position'].fillna(method = 'ffill', inplace = True)\n",
    "    df['tk senkou a position'].fillna(method = 'ffill', inplace = True)\n",
    "    df['market return'] = np.log(df['Adj Close'] / df['Adj Close'].shift(1))\n",
    "    df['strategy return tk'] = df['tk position'] * df['market return']\n",
    "    df['strategy return senkou b'] = df['tk senkou b position'] * df['market return']\n",
    "    df['strategy return senkou a'] = df['tk senkou a position'] * df['market return']\n",
    "    \n",
    "    df['strategy return tk'].cumsum().plot(grid = True, figsize = (20,5), color = 'g')\n",
    "    df['strategy return senkou b'].cumsum().plot(grid = True, figsize = (20,5), color = 'b')\n",
    "    df['strategy return senkou a'].cumsum().plot(grid = True, figsize = (20,5), color = 'r')\n",
    "    df['market return'].cumsum().plot(grid = True, figsize = (20,5), color = 'm')\n",
    "    \n",
    "            \n",
    "    return df"
   ]
  },
  {
   "cell_type": "code",
   "execution_count": null,
   "metadata": {},
   "outputs": [
    {
     "name": "stderr",
     "output_type": "stream",
     "text": [
      "C:\\Users\\xexx\\Anaconda3\\lib\\site-packages\\pandas\\core\\indexing.py:179: SettingWithCopyWarning: \n",
      "A value is trying to be set on a copy of a slice from a DataFrame\n",
      "\n",
      "See the caveats in the documentation: http://pandas.pydata.org/pandas-docs/stable/indexing.html#indexing-view-versus-copy\n",
      "  self._setitem_with_indexer(indexer, value)\n"
     ]
    }
   ],
   "source": [
    "FB.dropna(inplace = True)\n",
    "returns_df(FB)"
   ]
  },
  {
   "cell_type": "code",
   "execution_count": null,
   "metadata": {
    "collapsed": true
   },
   "outputs": [],
   "source": [
    "def risk_measures(df):\n",
    "    pass\n",
    "#sharpe, calmar, max drawdown"
   ]
  },
  {
   "cell_type": "code",
   "execution_count": null,
   "metadata": {},
   "outputs": [],
   "source": [
    "FB"
   ]
  },
  {
   "cell_type": "code",
   "execution_count": null,
   "metadata": {
    "collapsed": true
   },
   "outputs": [],
   "source": []
  }
 ],
 "metadata": {
  "kernelspec": {
   "display_name": "Python 3",
   "language": "python",
   "name": "python3"
  },
  "language_info": {
   "codemirror_mode": {
    "name": "ipython",
    "version": 3
   },
   "file_extension": ".py",
   "mimetype": "text/x-python",
   "name": "python",
   "nbconvert_exporter": "python",
   "pygments_lexer": "ipython3",
   "version": "3.6.1"
  }
 },
 "nbformat": 4,
 "nbformat_minor": 2
}
