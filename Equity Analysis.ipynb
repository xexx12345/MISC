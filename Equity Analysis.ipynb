{
 "cells": [
  {
   "cell_type": "code",
   "execution_count": 22,
   "metadata": {},
   "outputs": [],
   "source": [
    "import pandas as pd\n",
    "import numpy as np\n",
    "import pickle\n",
    "from pandas import ExcelWriter\n",
    "import ffn\n",
    "%matplotlib inline\n",
    "\n",
    "def save_xls(list_dfs, xls_path,sheet_names):\n",
    "    writer = ExcelWriter(xls_path)\n",
    "    for n, df in enumerate(list_dfs):\n",
    "        df.to_excel(writer, sheet_names[n])\n",
    "    writer.save()\n",
    "    return\n",
    "\n",
    "#pull in data from AlphaVantage\n",
    "from alpha_vantage.timeseries import TimeSeries\n",
    "ts = TimeSeries(key='NXY0VT9AHBRYGKKC',output_format='pandas')\n",
    "\n"
   ]
  },
  {
   "cell_type": "code",
   "execution_count": 23,
   "metadata": {},
   "outputs": [],
   "source": [
    "def historical_data(ticker, outsize = \"full\"):\n",
    "    #outsize can be compact and full. \n",
    "    #compact returns only the latest 100 data points; full \n",
    "    #returns the full-length time series of up to 20 years of historical data. The \"compact\" option is \n",
    "    #recommended if you would like to reduce the data size of each API call\n",
    "    alphavantage_link = 'https://www.alphavantage.co/query?function=TIME_SERIES_DAILY_ADJUSTED&symbol={0}&apikey=NXY0VT9AHBRYGKKC&datatype=csv&outputsize={1}'.format(ticker, outsize)\n",
    "    df = pd.read_csv(alphavantage_link)\n",
    "    df.index = pd.to_datetime(df.timestamp)\n",
    "    df = df[['adjusted_close']]\n",
    "    df.columns = [ticker]\n",
    "    df.dropna(inplace = True)\n",
    "    return df\n",
    "\n",
    "\n",
    "def multiple_tickers(tickers, df):\n",
    "    for ticker in tickers:\n",
    "        temp_df = historical_data(ticker)\n",
    "        df = df.join(temp_df, how = \"left\")\n",
    "        df.dropna(inplace = True)\n",
    "        df = df.sort_index()\n",
    "    df = df.loc[~(df==0).all(axis=1)]\n",
    "    return df"
   ]
  },
  {
   "cell_type": "code",
   "execution_count": 24,
   "metadata": {},
   "outputs": [
    {
     "name": "stderr",
     "output_type": "stream",
     "text": [
      "C:\\Users\\scheng\\AppData\\Local\\Continuum\\anaconda3\\lib\\site-packages\\ffn\\core.py:1043: RuntimeWarning: divide by zero encountered in log\n",
      "  return np.log(prices / prices.shift(1))\n",
      "C:\\Users\\scheng\\AppData\\Local\\Continuum\\anaconda3\\lib\\site-packages\\ffn\\core.py:2054: RuntimeWarning: invalid value encountered in minimum\n",
      "  negative_returns = np.minimum(returns, 0.)\n",
      "C:\\Users\\scheng\\AppData\\Local\\Continuum\\anaconda3\\lib\\site-packages\\ffn\\core.py:2056: RuntimeWarning: divide by zero encountered in true_divide\n",
      "  res = np.divide(er.mean(), std)\n"
     ]
    }
   ],
   "source": [
    "SPY = historical_data(\"CM.TO\")\n",
    "banks = multiple_tickers([\"BMO.TO\",\"RY.TO\",\"ZPR.TO\"],SPY)\n",
    "perf = banks.calc_stats()"
   ]
  },
  {
   "cell_type": "code",
   "execution_count": 25,
   "metadata": {},
   "outputs": [
    {
     "name": "stdout",
     "output_type": "stream",
     "text": [
      "Stat                 CM.TO       BMO.TO      RY.TO       ZPR.TO\n",
      "-------------------  ----------  ----------  ----------  ----------\n",
      "Start                2012-11-26  2012-11-26  2012-11-26  2012-11-26\n",
      "End                  2018-07-13  2018-07-13  2018-07-13  2018-07-13\n",
      "Risk-free rate       0.00%       0.00%       0.00%       0.00%\n",
      "\n",
      "Total Return         92.80%      124.85%     118.60%     0.74%\n",
      "Daily Sharpe         -           -           -           0.06\n",
      "Daily Sortino        inf         inf         inf         0.10\n",
      "CAGR                 12.38%      15.49%      14.91%      0.13%\n",
      "Max Drawdown         -100.00%    -100.00%    -100.00%    -37.00%\n",
      "Calmar Ratio         0.12        0.15        0.15        0.00\n",
      "\n",
      "MTD                  1.50%       1.49%       2.50%       0.78%\n",
      "3m                   5.41%       9.74%       6.64%       1.79%\n",
      "6m                   -4.49%      2.61%       -0.90%      0.28%\n",
      "YTD                  -4.17%      4.48%       1.52%       1.30%\n",
      "1Y                   11.20%      10.78%      11.59%      5.42%\n",
      "3Y (ann.)            13.55%      16.57%      14.37%      5.52%\n",
      "5Y (ann.)            14.12%      15.57%      14.82%      0.11%\n",
      "10Y (ann.)           12.38%      15.49%      14.91%      0.13%\n",
      "Since Incep. (ann.)  12.38%      15.49%      14.91%      0.13%\n",
      "\n",
      "Daily Sharpe         -           -           -           0.06\n",
      "Daily Sortino        inf         inf         inf         0.10\n",
      "Daily Mean (ann.)    inf%        inf%        inf%        0.58%\n",
      "Daily Vol (ann.)     -           -           -           9.49%\n",
      "Daily Skew           -           -           -           0.67\n",
      "Daily Kurt           -           -           -           12.47\n",
      "Best Day             inf%        inf%        inf%        4.73%\n",
      "Worst Day            -100.00%    -100.00%    -100.00%    -3.48%\n",
      "\n",
      "Monthly Sharpe       0.93        1.24        1.21        0.07\n",
      "Monthly Sortino      1.78        2.40        2.43        0.10\n",
      "Monthly Mean (ann.)  12.47%      14.97%      14.27%      0.78%\n",
      "Monthly Vol (ann.)   13.36%      12.06%      11.76%      11.03%\n",
      "Monthly Skew         -0.40       -0.48       -0.24       -1.00\n",
      "Monthly Kurt         0.59        0.81        0.72        6.19\n",
      "Best Month           9.17%       9.08%       9.16%       10.16%\n",
      "Worst Month          -11.68%     -10.29%     -9.71%      -13.98%\n",
      "\n",
      "Yearly Sharpe        0.95        1.25        1.11        0.05\n",
      "Yearly Sortino       6.18        inf         8.94        0.08\n",
      "Yearly Mean          11.72%      14.42%      13.89%      0.64%\n",
      "Yearly Vol           12.39%      11.49%      12.50%      11.79%\n",
      "Yearly Skew          -0.60       0.04        -0.56       -1.12\n",
      "Yearly Kurt          -1.63       -2.16       -1.38       1.96\n",
      "Best Year            25.91%      29.14%      27.84%      14.55%\n",
      "Worst Year           -4.17%      0.54%       -3.81%      -20.16%\n",
      "\n",
      "Avg. Drawdown        -3.80%      -2.67%      -3.11%      -2.81%\n",
      "Avg. Drawdown Days   30.50       22.33       25.51       142.00\n",
      "Avg. Up Month        3.46%       3.17%       3.01%       1.83%\n",
      "Avg. Down Month      -2.87%      -2.51%      -2.37%      -2.31%\n",
      "Win Year %           66.67%      100.00%     83.33%      66.67%\n",
      "Win 12m %            91.38%      89.66%      84.48%      51.72%\n"
     ]
    }
   ],
   "source": [
    "perf.display()"
   ]
  },
  {
   "cell_type": "code",
   "execution_count": 26,
   "metadata": {},
   "outputs": [
    {
     "name": "stdout",
     "output_type": "stream",
     "text": [
      "  Year    Jan    Feb    Mar    Apr    May    Jun    Jul    Aug    Sep    Oct    Nov    Dec    YTD\n",
      "------  -----  -----  -----  -----  -----  -----  -----  -----  -----  -----  -----  -----  -----\n",
      "  2012   0      0      0      0      0      0      0      0      0      0      1.64   1.66   3.33\n",
      "  2013   4.76   3.06  -4.4    0.35   1.23  -0.41   5.71   1.15   1.69   7.12   0.6    1.38  24.05\n",
      "  2014  -2.58   4.38   1.31   1.34   2.04   2.2    6.44   0.37  -0.89   0.9    3.94  -3.51  16.64\n",
      "  2015  -9.71   9.16  -2.64   6.08  -1.3   -3.4    0.86  -3.83   0.61   2.41   1.75  -2.54  -3.81\n",
      "  2016  -0.99  -4.8    8.34   5.21   1.17  -3.16   5.32   2.44  -0.33   4.15   3.91   4.35  27.84\n",
      "  2017   3.88   3.12   0.43  -2.65  -0.11   0.85  -0.31  -0.35   4.16   5.42  -0.02   1.78  17.12\n",
      "  2018   4.37  -4.02  -1.55  -0.94   0.37   1.01   2.5    0      0      0      0      0      1.52\n"
     ]
    }
   ],
   "source": [
    "perf['RY.TO'].display_monthly_returns()"
   ]
  },
  {
   "cell_type": "code",
   "execution_count": 27,
   "metadata": {},
   "outputs": [
    {
     "name": "stderr",
     "output_type": "stream",
     "text": [
      "C:\\Users\\scheng\\AppData\\Local\\Continuum\\anaconda3\\lib\\site-packages\\ffn\\core.py:1043: RuntimeWarning: divide by zero encountered in log\n",
      "  return np.log(prices / prices.shift(1))\n"
     ]
    }
   ],
   "source": [
    "returns = banks.to_log_returns().dropna()"
   ]
  },
  {
   "cell_type": "code",
   "execution_count": 28,
   "metadata": {},
   "outputs": [
    {
     "data": {
      "text/plain": [
       "<module 'matplotlib.pyplot' from 'C:\\\\Users\\\\scheng\\\\AppData\\\\Local\\\\Continuum\\\\anaconda3\\\\lib\\\\site-packages\\\\matplotlib\\\\pyplot.py'>"
      ]
     },
     "execution_count": 28,
     "metadata": {},
     "output_type": "execute_result"
    },
    {
     "data": {
      "image/png": "[encoded data removed]",
      "text/plain": [
       "<matplotlib.figure.Figure at 0xbcdec18>"
      ]
     },
     "metadata": {},
     "output_type": "display_data"
    }
   ],
   "source": [
    "returns.plot_corr_heatmap(figsize=(20,10))"
   ]
  },
  {
   "cell_type": "code",
   "execution_count": 29,
   "metadata": {},
   "outputs": [],
   "source": [
    "def historical_data1(ticker, outsize = \"full\"):\n",
    "    #outsize can be compact and full. \n",
    "    #compact returns only the latest 100 data points; full \n",
    "    #returns the full-length time series of up to 20 years of historical data. The \"compact\" option is \n",
    "    #recommended if you would like to reduce the data size of each API call\n",
    "    alphavantage_link = 'https://www.alphavantage.co/query?function=TIME_SERIES_DAILY_ADJUSTED&symbol={0}&apikey=NXY0VT9AHBRYGKKC&datatype=csv&outputsize={1}'.format(ticker, outsize)\n",
    "    df = pd.read_csv(alphavantage_link)\n",
    "    df.index = pd.to_datetime(df.timestamp)\n",
    "    df.dropna(inplace = True)\n",
    "    return df"
   ]
  },
  {
   "cell_type": "code",
   "execution_count": 30,
   "metadata": {},
   "outputs": [],
   "source": [
    "ZPR = historical_data1(\"ZPR.TO\")\n",
    "CPD = historical_data1(\"CPD.TO\")"
   ]
  },
  {
   "cell_type": "code",
   "execution_count": 31,
   "metadata": {},
   "outputs": [
    {
     "name": "stdout",
     "output_type": "stream",
     "text": [
      "Stats for adjusted_close from 2018-07-16 00:00:00 - 2012-11-26 00:00:00\n",
      "Annual risk-free rate considered: 0.00%\n",
      "Summary:\n",
      "Total Return      Sharpe  CAGR    Max Drawdown\n",
      "--------------  --------  ------  --------------\n",
      "-0.78%              0.06  0.14%   -37.00%\n",
      "\n",
      "Annualized Returns:\n",
      "mtd    3m     6m     ytd    1y     3y     5y     10y    incep.\n",
      "-----  -----  -----  -----  -----  -----  -----  -----  --------\n",
      "0.82%  2.10%  0.83%  1.34%  5.56%  5.17%  0.09%  0.14%  0.14%\n",
      "\n",
      "Periodic:\n",
      "        daily    monthly    yearly\n",
      "------  -------  ---------  --------\n",
      "sharpe  0.06     0.07       0.05\n",
      "mean    0.59%    0.79%      0.64%\n",
      "vol     9.48%    11.03%     11.79%\n",
      "skew    0.67     -1.01      -1.12\n",
      "kurt    12.49    6.19       1.97\n",
      "best    4.73%    10.16%     14.55%\n",
      "worst   -3.48%   -13.98%    -20.16%\n",
      "\n",
      "Drawdowns:\n",
      "max      avg       # days\n",
      "-------  ------  --------\n",
      "-37.00%  -2.81%    142.21\n",
      "\n",
      "Misc:\n",
      "---------------  ------\n",
      "avg. up month    1.83%\n",
      "avg. down month  -2.31%\n",
      "up year %        66.67%\n",
      "12m up %         51.72%\n",
      "---------------  ------\n"
     ]
    },
    {
     "name": "stderr",
     "output_type": "stream",
     "text": [
      "C:\\Users\\scheng\\AppData\\Local\\Continuum\\anaconda3\\lib\\site-packages\\ffn\\core.py:2054: RuntimeWarning: invalid value encountered in minimum\n",
      "  negative_returns = np.minimum(returns, 0.)\n"
     ]
    }
   ],
   "source": [
    "ZPR.adjusted_close.calc_stats().display()"
   ]
  },
  {
   "cell_type": "code",
   "execution_count": 32,
   "metadata": {},
   "outputs": [
    {
     "name": "stdout",
     "output_type": "stream",
     "text": [
      "Stats for adjusted_close from 2018-07-16 00:00:00 - 2007-10-25 00:00:00\n",
      "Annual risk-free rate considered: 0.00%\n",
      "Summary:\n",
      "Total Return    Sharpe    CAGR    Max Drawdown\n",
      "--------------  --------  ------  --------------\n",
      "-23.12%         -         2.48%   -100.00%\n",
      "\n",
      "Annualized Returns:\n",
      "mtd    3m     6m     ytd    1y     3y     5y     10y    incep.\n",
      "-----  -----  -----  -----  -----  -----  -----  -----  --------\n",
      "0.71%  1.62%  0.78%  0.92%  5.02%  4.91%  1.50%  3.50%  2.48%\n",
      "\n",
      "Periodic:\n",
      "        daily     monthly    yearly\n",
      "------  --------  ---------  --------\n",
      "sharpe  -         0.33       0.26\n",
      "mean    inf%      2.93%      3.03%\n",
      "vol     -         8.89%      11.84%\n",
      "skew    -         -0.76      -0.23\n",
      "kurt    -         5.08       0.54\n",
      "best    inf%      8.98%      24.60%\n",
      "worst   -100.00%  -10.78%    -16.79%\n",
      "\n",
      "Drawdowns:\n",
      "max       avg       # days\n",
      "--------  ------  --------\n",
      "-100.00%  -2.09%     35.95\n",
      "\n",
      "Misc:\n",
      "---------------  ------\n",
      "avg. up month    1.58%\n",
      "avg. down month  -1.86%\n",
      "up year %        72.73%\n",
      "12m up %         68.91%\n",
      "---------------  ------\n"
     ]
    },
    {
     "name": "stderr",
     "output_type": "stream",
     "text": [
      "C:\\Users\\scheng\\AppData\\Local\\Continuum\\anaconda3\\lib\\site-packages\\ffn\\core.py:1043: RuntimeWarning: divide by zero encountered in log\n",
      "  return np.log(prices / prices.shift(1))\n",
      "C:\\Users\\scheng\\AppData\\Local\\Continuum\\anaconda3\\lib\\site-packages\\ffn\\core.py:2054: RuntimeWarning: invalid value encountered in minimum\n",
      "  negative_returns = np.minimum(returns, 0.)\n"
     ]
    }
   ],
   "source": [
    "CPD.adjusted_close.calc_stats().display()"
   ]
  },
  {
   "cell_type": "code",
   "execution_count": 33,
   "metadata": {},
   "outputs": [
    {
     "name": "stdout",
     "output_type": "stream",
     "text": [
      "Stats for adjusted_close from 2018-07-16 00:00:00 - 2006-05-25 00:00:00\n",
      "Annual risk-free rate considered: 0.00%\n",
      "Summary:\n",
      "Total Return      Sharpe  CAGR    Max Drawdown\n",
      "--------------  --------  ------  --------------\n",
      "-97.87%             1.09  37.32%  -62.66%\n",
      "\n",
      "Annualized Returns:\n",
      "mtd    3m      6m      ytd     1y      3y      5y      10y     incep.\n",
      "-----  ------  ------  ------  ------  ------  ------  ------  --------\n",
      "4.31%  17.90%  26.50%  35.85%  62.14%  29.71%  29.13%  22.99%  37.32%\n",
      "\n",
      "Periodic:\n",
      "        daily    monthly    yearly\n",
      "------  -------  ---------  --------\n",
      "sharpe  1.09     1.20       0.83\n",
      "mean    37.64%   36.67%     35.91%\n",
      "vol     34.39%   30.45%     43.37%\n",
      "skew    0.79     0.61       0.30\n",
      "kurt    10.39    3.12       -0.24\n",
      "best    20.85%   37.31%     119.40%\n",
      "worst   -11.79%  -26.89%    -33.39%\n",
      "\n",
      "Drawdowns:\n",
      "max      avg       # days\n",
      "-------  ------  --------\n",
      "-62.66%  -3.69%     24.62\n",
      "\n",
      "Misc:\n",
      "---------------  ------\n",
      "avg. up month    7.61%\n",
      "avg. down month  -4.94%\n",
      "up year %        83.33%\n",
      "12m up %         86.76%\n",
      "---------------  ------\n"
     ]
    },
    {
     "name": "stderr",
     "output_type": "stream",
     "text": [
      "C:\\Users\\scheng\\AppData\\Local\\Continuum\\anaconda3\\lib\\site-packages\\ffn\\core.py:2054: RuntimeWarning: invalid value encountered in minimum\n",
      "  negative_returns = np.minimum(returns, 0.)\n"
     ]
    }
   ],
   "source": [
    "MA = historical_data1(\"MA\")\n",
    "MA.adjusted_close.calc_stats().display()"
   ]
  },
  {
   "cell_type": "code",
   "execution_count": 34,
   "metadata": {},
   "outputs": [
    {
     "name": "stdout",
     "output_type": "stream",
     "text": [
      "Stats for adjusted_close from 2018-07-16 00:00:00 - 2008-03-19 00:00:00\n",
      "Annual risk-free rate considered: 0.00%\n",
      "Summary:\n",
      "Total Return      Sharpe  CAGR    Max Drawdown\n",
      "--------------  --------  ------  --------------\n",
      "-90.53%             0.91  25.64%  -51.90%\n",
      "\n",
      "Annualized Returns:\n",
      "mtd    3m      6m      ytd     1y      3y      5y      10y     incep.\n",
      "-----  ------  ------  ------  ------  ------  ------  ------  --------\n",
      "4.51%  13.75%  15.36%  21.80%  43.76%  26.06%  24.84%  23.51%  25.64%\n",
      "\n",
      "Periodic:\n",
      "        daily    monthly    yearly\n",
      "------  -------  ---------  --------\n",
      "sharpe  0.91     1.08       1.14\n",
      "mean    27.37%   24.52%     30.12%\n",
      "vol     30.09%   22.62%     26.37%\n",
      "skew    0.32     0.47       -0.52\n",
      "kurt    8.89     4.99       -0.28\n",
      "best    15.00%   33.82%     67.86%\n",
      "worst   -13.64%  -19.58%    -18.99%\n",
      "\n",
      "Drawdowns:\n",
      "max      avg       # days\n",
      "-------  ------  --------\n",
      "-51.90%  -3.06%     24.06\n",
      "\n",
      "Misc:\n",
      "---------------  ------\n",
      "avg. up month    5.44%\n",
      "avg. down month  -4.35%\n",
      "up year %        90.00%\n",
      "12m up %         87.72%\n",
      "---------------  ------\n"
     ]
    },
    {
     "name": "stderr",
     "output_type": "stream",
     "text": [
      "C:\\Users\\scheng\\AppData\\Local\\Continuum\\anaconda3\\lib\\site-packages\\ffn\\core.py:2054: RuntimeWarning: invalid value encountered in minimum\n",
      "  negative_returns = np.minimum(returns, 0.)\n"
     ]
    }
   ],
   "source": [
    "df = historical_data1(\"V\")\n",
    "df.adjusted_close.calc_stats().display()"
   ]
  },
  {
   "cell_type": "code",
   "execution_count": null,
   "metadata": {},
   "outputs": [],
   "source": []
  },
  {
   "cell_type": "code",
   "execution_count": null,
   "metadata": {},
   "outputs": [],
   "source": []
  },
  {
   "cell_type": "code",
   "execution_count": null,
   "metadata": {},
   "outputs": [],
   "source": []
  }
 ],
 "metadata": {
  "kernelspec": {
   "display_name": "Python 3",
   "language": "python",
   "name": "python3"
  },
  "language_info": {
   "codemirror_mode": {
    "name": "ipython",
    "version": 3
   },
   "file_extension": ".py",
   "mimetype": "text/x-python",
   "name": "python",
   "nbconvert_exporter": "python",
   "pygments_lexer": "ipython3",
   "version": "3.6.4"
  }
 },
 "nbformat": 4,
 "nbformat_minor": 2
}
