{
 "cells": [
  {
   "cell_type": "code",
   "execution_count": 1,
   "metadata": {
    "collapsed": true
   },
   "outputs": [],
   "source": [
    "import pandas as pd\n",
    "import numpy as np\n",
    "import pickle\n",
    "from pandas import ExcelWriter\n",
    "import ffn\n",
    "%matplotlib inline\n",
    "\n",
    "def save_xls(list_dfs, xls_path,sheet_names):\n",
    "    writer = ExcelWriter(xls_path)\n",
    "    for n, df in enumerate(list_dfs):\n",
    "        df.to_excel(writer, sheet_names[n])\n",
    "    writer.save()\n",
    "    return\n",
    "\n",
    "#pull in data from AlphaVantage\n",
    "from alpha_vantage.timeseries import TimeSeries\n",
    "ts = TimeSeries(key='NXY0VT9AHBRYGKKC',output_format='pandas')\n",
    "\n"
   ]
  },
  {
   "cell_type": "code",
   "execution_count": 2,
   "metadata": {
    "collapsed": true
   },
   "outputs": [],
   "source": [
    "def historical_data(ticker, outsize = \"full\"):\n",
    "    #outsize can be compact and full. \n",
    "    #compact returns only the latest 100 data points; full \n",
    "    #returns the full-length time series of up to 20 years of historical data. The \"compact\" option is \n",
    "    #recommended if you would like to reduce the data size of each API call\n",
    "    alphavantage_link = 'https://www.alphavantage.co/query?function=TIME_SERIES_DAILY_ADJUSTED&symbol={0}&apikey=NXY0VT9AHBRYGKKC&datatype=csv&outputsize={1}'.format(ticker, outsize)\n",
    "    df = pd.read_csv(alphavantage_link)\n",
    "    df.index = pd.to_datetime(df.timestamp)\n",
    "    df = df[['adjusted_close']]\n",
    "    df.columns = [ticker]\n",
    "    df.dropna(inplace = True)\n",
    "    return df\n",
    "\n",
    "\n",
    "def multiple_tickers(tickers, df):\n",
    "    for ticker in tickers:\n",
    "        temp_df = historical_data(ticker)\n",
    "        df = df.join(temp_df, how = \"left\")\n",
    "        df.dropna(inplace = True)\n",
    "        df = df.sort_index()\n",
    "    df = df.loc[~(df==0).all(axis=1)]\n",
    "    return df"
   ]
  },
  {
   "cell_type": "code",
   "execution_count": 3,
   "metadata": {},
   "outputs": [
    {
     "name": "stderr",
     "output_type": "stream",
     "text": [
      "C:\\Users\\xexx\\Anaconda3\\lib\\site-packages\\ffn\\core.py:1043: RuntimeWarning: divide by zero encountered in log\n",
      "  return np.log(prices / prices.shift(1))\n",
      "C:\\Users\\xexx\\Anaconda3\\lib\\site-packages\\ffn\\core.py:2054: RuntimeWarning: invalid value encountered in minimum\n",
      "  negative_returns = np.minimum(returns, 0.)\n",
      "C:\\Users\\xexx\\Anaconda3\\lib\\site-packages\\ffn\\core.py:2056: RuntimeWarning: divide by zero encountered in true_divide\n",
      "  res = np.divide(er.mean(), std)\n"
     ]
    }
   ],
   "source": [
    "SPY = historical_data(\"CM.TO\")\n",
    "banks = multiple_tickers([\"BMO.TO\",\"RY.TO\",\"ZPR.TO\"],SPY)\n",
    "perf = banks.calc_stats()"
   ]
  },
  {
   "cell_type": "code",
   "execution_count": 4,
   "metadata": {},
   "outputs": [
    {
     "name": "stdout",
     "output_type": "stream",
     "text": [
      "Stat                 CM.TO       BMO.TO      RY.TO       ZPR.TO\n",
      "-------------------  ----------  ----------  ----------  ----------\n",
      "Start                2012-11-26  2012-11-26  2012-11-26  2012-11-26\n",
      "End                  2018-07-25  2018-07-25  2018-07-25  2018-07-25\n",
      "Risk-free rate       0.00%       0.00%       0.00%       0.00%\n",
      "\n",
      "Total Return         94.87%      126.44%     119.37%     0.74%\n",
      "Daily Sharpe         -           -           -           0.06\n",
      "Daily Sortino        inf         inf         inf         0.10\n",
      "CAGR                 12.51%      15.54%      14.89%      0.13%\n",
      "Max Drawdown         -100.00%    -100.00%    -100.00%    -37.00%\n",
      "Calmar Ratio         0.13        0.16        0.15        0.00\n",
      "\n",
      "MTD                  2.59%       2.20%       2.86%       0.78%\n",
      "3m                   5.86%       7.96%       5.39%       2.32%\n",
      "6m                   -2.65%      2.17%       -2.57%      -0.15%\n",
      "YTD                  -3.13%      5.22%       1.88%       1.30%\n",
      "1Y                   12.90%      12.44%      12.39%      4.88%\n",
      "3Y (ann.)            14.70%      18.21%      15.88%      5.38%\n",
      "5Y (ann.)            13.75%      14.87%      13.67%      0.29%\n",
      "10Y (ann.)           12.51%      15.54%      14.89%      0.13%\n",
      "Since Incep. (ann.)  12.51%      15.54%      14.89%      0.13%\n",
      "\n",
      "Daily Sharpe         -           -           -           0.06\n",
      "Daily Sortino        inf         inf         inf         0.10\n",
      "Daily Mean (ann.)    inf%        inf%        inf%        0.58%\n",
      "Daily Vol (ann.)     -           -           -           9.46%\n",
      "Daily Skew           -           -           -           0.67\n",
      "Daily Kurt           -           -           -           12.56\n",
      "Best Day             inf%        inf%        inf%        4.73%\n",
      "Worst Day            -100.00%    -100.00%    -100.00%    -3.48%\n",
      "\n",
      "Monthly Sharpe       0.95        1.25        1.22        0.07\n",
      "Monthly Sortino      1.81        2.42        2.44        0.10\n",
      "Monthly Mean (ann.)  12.66%      15.09%      14.33%      0.78%\n",
      "Monthly Vol (ann.)   13.38%      12.06%      11.77%      11.03%\n",
      "Monthly Skew         -0.41       -0.49       -0.25       -1.00\n",
      "Monthly Kurt         0.59        0.81        0.71        6.19\n",
      "Best Month           9.17%       9.08%       9.16%       10.16%\n",
      "Worst Month          -11.68%     -10.29%     -9.71%      -13.98%\n",
      "\n",
      "Yearly Sharpe        0.98        1.28        1.12        0.05\n",
      "Yearly Sortino       7.45        inf         8.98        0.08\n",
      "Yearly Mean          11.90%      14.54%      13.95%      0.64%\n",
      "Yearly Vol           12.13%      11.37%      12.43%      11.79%\n",
      "Yearly Skew          -0.58       0.03        -0.56       -1.12\n",
      "Yearly Kurt          -1.63       -2.10       -1.32       1.96\n",
      "Best Year            25.91%      29.14%      27.84%      14.55%\n",
      "Worst Year           -3.13%      0.54%       -3.81%      -20.16%\n",
      "\n",
      "Avg. Drawdown        -3.80%      -2.61%      -3.11%      -2.81%\n",
      "Avg. Drawdown Days   30.70       21.88       25.69       142.86\n",
      "Avg. Up Month        3.49%       3.18%       3.01%       1.83%\n",
      "Avg. Down Month      -2.87%      -2.51%      -2.37%      -2.31%\n",
      "Win Year %           66.67%      100.00%     83.33%      66.67%\n",
      "Win 12m %            91.38%      89.66%      84.48%      51.72%\n"
     ]
    }
   ],
   "source": [
    "perf.display()"
   ]
  },
  {
   "cell_type": "code",
   "execution_count": 5,
   "metadata": {},
   "outputs": [
    {
     "name": "stdout",
     "output_type": "stream",
     "text": [
      "  Year    Jan    Feb    Mar    Apr    May    Jun    Jul    Aug    Sep    Oct    Nov    Dec    YTD\n",
      "------  -----  -----  -----  -----  -----  -----  -----  -----  -----  -----  -----  -----  -----\n",
      "  2012   0      0      0      0      0      0      0      0      0      0      1.64   1.66   3.33\n",
      "  2013   4.76   3.06  -4.4    0.35   1.23  -0.41   5.71   1.15   1.69   7.12   0.6    1.38  24.05\n",
      "  2014  -2.58   4.38   1.31   1.33   2.04   2.2    6.44   0.37  -0.89   0.9    3.94  -3.51  16.64\n",
      "  2015  -9.71   9.16  -2.64   6.08  -1.3   -3.4    0.86  -3.83   0.61   2.41   1.75  -2.54  -3.81\n",
      "  2016  -0.99  -4.8    8.34   5.21   1.17  -3.16   5.32   2.44  -0.33   4.15   3.91   4.35  27.84\n",
      "  2017   3.88   3.12   0.42  -2.65  -0.11   0.85  -0.31  -0.35   4.16   5.42  -0.02   1.78  17.12\n",
      "  2018   4.37  -4.02  -1.55  -0.94   0.37   1.01   2.86   0      0      0      0      0      1.88\n"
     ]
    }
   ],
   "source": [
    "perf['RY.TO'].display_monthly_returns()"
   ]
  },
  {
   "cell_type": "code",
   "execution_count": 6,
   "metadata": {},
   "outputs": [
    {
     "name": "stderr",
     "output_type": "stream",
     "text": [
      "C:\\Users\\xexx\\Anaconda3\\lib\\site-packages\\ffn\\core.py:1043: RuntimeWarning: divide by zero encountered in log\n",
      "  return np.log(prices / prices.shift(1))\n"
     ]
    }
   ],
   "source": [
    "returns = banks.to_log_returns().dropna()"
   ]
  },
  {
   "cell_type": "code",
   "execution_count": 7,
   "metadata": {},
   "outputs": [
    {
     "data": {
      "text/plain": [
       "<module 'matplotlib.pyplot' from 'C:\\\\Users\\\\xexx\\\\Anaconda3\\\\lib\\\\site-packages\\\\matplotlib\\\\pyplot.py'>"
      ]
     },
     "execution_count": 7,
     "metadata": {},
     "output_type": "execute_result"
    },
    {
     "data": {
      "image/png": "[encoded data removed]",
      "text/plain": [
       "<Figure size 1440x720 with 2 Axes>"
      ]
     },
     "metadata": {},
     "output_type": "display_data"
    }
   ],
   "source": [
    "returns.plot_corr_heatmap(figsize=(20,10))"
   ]
  },
  {
   "cell_type": "code",
   "execution_count": 8,
   "metadata": {
    "collapsed": true
   },
   "outputs": [],
   "source": [
    "def historical_data1(ticker, outsize = \"full\"):\n",
    "    #outsize can be compact and full. \n",
    "    #compact returns only the latest 100 data points; full \n",
    "    #returns the full-length time series of up to 20 years of historical data. The \"compact\" option is \n",
    "    #recommended if you would like to reduce the data size of each API call\n",
    "    alphavantage_link = 'https://www.alphavantage.co/query?function=TIME_SERIES_DAILY_ADJUSTED&symbol={0}&apikey=NXY0VT9AHBRYGKKC&datatype=csv&outputsize={1}'.format(ticker, outsize)\n",
    "    df = pd.read_csv(alphavantage_link)\n",
    "    df.index = pd.to_datetime(df.timestamp)\n",
    "    df.dropna(inplace = True)\n",
    "    return df"
   ]
  },
  {
   "cell_type": "code",
   "execution_count": 9,
   "metadata": {
    "collapsed": true
   },
   "outputs": [],
   "source": [
    "ZPR = historical_data1(\"ZPR.TO\")\n",
    "CPD = historical_data1(\"CPD.TO\")"
   ]
  },
  {
   "cell_type": "code",
   "execution_count": 10,
   "metadata": {},
   "outputs": [
    {
     "name": "stdout",
     "output_type": "stream",
     "text": [
      "Stats for adjusted_close from 2018-07-26 00:00:00 - 2012-11-26 00:00:00\n",
      "Annual risk-free rate considered: 0.00%\n",
      "Summary:\n",
      "Total Return      Sharpe  CAGR    Max Drawdown\n",
      "--------------  --------  ------  --------------\n",
      "-0.99%              0.07  0.18%   -37.00%\n",
      "\n",
      "Annualized Returns:\n",
      "mtd    3m     6m     ytd    1y     3y     5y     10y    incep.\n",
      "-----  -----  -----  -----  -----  -----  -----  -----  --------\n",
      "1.03%  2.60%  0.11%  1.56%  5.10%  5.46%  0.50%  0.18%  0.18%\n",
      "\n",
      "Periodic:\n",
      "        daily    monthly    yearly\n",
      "------  -------  ---------  --------\n",
      "sharpe  0.07     0.07       0.06\n",
      "mean    0.62%    0.83%      0.68%\n",
      "vol     9.46%    11.03%     11.79%\n",
      "skew    0.67     -1.01      -1.13\n",
      "kurt    12.57    6.19       1.99\n",
      "best    4.73%    10.16%     14.55%\n",
      "worst   -3.48%   -13.98%    -20.16%\n",
      "\n",
      "Drawdowns:\n",
      "max      avg       # days\n",
      "-------  ------  --------\n",
      "-37.00%  -2.81%    142.93\n",
      "\n",
      "Misc:\n",
      "---------------  ------\n",
      "avg. up month    1.84%\n",
      "avg. down month  -2.31%\n",
      "up year %        66.67%\n",
      "12m up %         51.72%\n",
      "---------------  ------\n"
     ]
    },
    {
     "name": "stderr",
     "output_type": "stream",
     "text": [
      "C:\\Users\\xexx\\Anaconda3\\lib\\site-packages\\ffn\\core.py:2054: RuntimeWarning: invalid value encountered in minimum\n",
      "  negative_returns = np.minimum(returns, 0.)\n"
     ]
    }
   ],
   "source": [
    "ZPR.adjusted_close.calc_stats().display()"
   ]
  },
  {
   "cell_type": "code",
   "execution_count": 11,
   "metadata": {},
   "outputs": [
    {
     "name": "stdout",
     "output_type": "stream",
     "text": [
      "Stats for adjusted_close from 2018-07-26 00:00:00 - 2007-10-25 00:00:00\n",
      "Annual risk-free rate considered: 0.00%\n",
      "Summary:\n",
      "Total Return    Sharpe    CAGR    Max Drawdown\n",
      "--------------  --------  ------  --------------\n",
      "-23.33%         -         2.50%   -100.00%\n",
      "\n",
      "Annualized Returns:\n",
      "mtd    3m     6m     ytd    1y     3y     5y     10y    incep.\n",
      "-----  -----  -----  -----  -----  -----  -----  -----  --------\n",
      "0.99%  2.56%  0.01%  1.20%  4.70%  5.16%  1.75%  3.41%  2.50%\n",
      "\n",
      "Periodic:\n",
      "        daily     monthly    yearly\n",
      "------  --------  ---------  --------\n",
      "sharpe  -         0.33       0.26\n",
      "mean    inf%      2.96%      3.05%\n",
      "vol     -         8.89%      11.83%\n",
      "skew    -         -0.76      -0.24\n",
      "kurt    -         5.07       0.55\n",
      "best    inf%      8.98%      24.60%\n",
      "worst   -100.00%  -10.78%    -16.79%\n",
      "\n",
      "Drawdowns:\n",
      "max       avg       # days\n",
      "--------  ------  --------\n",
      "-100.00%  -2.09%     36.05\n",
      "\n",
      "Misc:\n",
      "---------------  ------\n",
      "avg. up month    1.58%\n",
      "avg. down month  -1.86%\n",
      "up year %        72.73%\n",
      "12m up %         68.91%\n",
      "---------------  ------\n"
     ]
    },
    {
     "name": "stderr",
     "output_type": "stream",
     "text": [
      "C:\\Users\\xexx\\Anaconda3\\lib\\site-packages\\ffn\\core.py:1043: RuntimeWarning: divide by zero encountered in log\n",
      "  return np.log(prices / prices.shift(1))\n",
      "C:\\Users\\xexx\\Anaconda3\\lib\\site-packages\\ffn\\core.py:2054: RuntimeWarning: invalid value encountered in minimum\n",
      "  negative_returns = np.minimum(returns, 0.)\n"
     ]
    }
   ],
   "source": [
    "CPD.adjusted_close.calc_stats().display()"
   ]
  },
  {
   "cell_type": "code",
   "execution_count": 12,
   "metadata": {},
   "outputs": [
    {
     "name": "stdout",
     "output_type": "stream",
     "text": [
      "Stats for adjusted_close from 2018-07-26 00:00:00 - 2006-05-25 00:00:00\n",
      "Annual risk-free rate considered: 0.00%\n",
      "Summary:\n",
      "Total Return      Sharpe  CAGR    Max Drawdown\n",
      "--------------  --------  ------  --------------\n",
      "-97.91%              1.1  37.44%  -62.66%\n",
      "\n",
      "Annualized Returns:\n",
      "mtd    3m      6m      ytd     1y      3y      5y      10y     incep.\n",
      "-----  ------  ------  ------  ------  ------  ------  ------  --------\n",
      "6.33%  17.29%  22.86%  38.48%  60.26%  31.23%  29.26%  24.07%  37.44%\n",
      "\n",
      "Periodic:\n",
      "        daily    monthly    yearly\n",
      "------  -------  ---------  --------\n",
      "sharpe  1.10     1.21       0.83\n",
      "mean    37.70%   36.84%     36.13%\n",
      "vol     34.36%   30.46%     43.37%\n",
      "skew    0.79     0.60       0.28\n",
      "kurt    10.39    3.10       -0.25\n",
      "best    20.85%   37.31%     119.40%\n",
      "worst   -11.79%  -26.89%    -33.39%\n",
      "\n",
      "Drawdowns:\n",
      "max      avg       # days\n",
      "-------  ------  --------\n",
      "-62.66%  -3.67%     24.36\n",
      "\n",
      "Misc:\n",
      "---------------  ------\n",
      "avg. up month    7.64%\n",
      "avg. down month  -4.94%\n",
      "up year %        83.33%\n",
      "12m up %         86.76%\n",
      "---------------  ------\n"
     ]
    },
    {
     "name": "stderr",
     "output_type": "stream",
     "text": [
      "C:\\Users\\xexx\\Anaconda3\\lib\\site-packages\\ffn\\core.py:2054: RuntimeWarning: invalid value encountered in minimum\n",
      "  negative_returns = np.minimum(returns, 0.)\n"
     ]
    }
   ],
   "source": [
    "MA = historical_data1(\"MA\")\n",
    "MA.adjusted_close.calc_stats().display()"
   ]
  },
  {
   "cell_type": "code",
   "execution_count": 1,
   "metadata": {},
   "outputs": [
    {
     "ename": "NameError",
     "evalue": "name 'historical_data1' is not defined",
     "output_type": "error",
     "traceback": [
      "\u001b[1;31m---------------------------------------------------------------------------\u001b[0m",
      "\u001b[1;31mNameError\u001b[0m                                 Traceback (most recent call last)",
      "\u001b[1;32m<ipython-input-1-7c34a592ec26>\u001b[0m in \u001b[0;36m<module>\u001b[1;34m()\u001b[0m\n\u001b[1;32m----> 1\u001b[1;33m \u001b[0mdf\u001b[0m \u001b[1;33m=\u001b[0m \u001b[0mhistorical_data1\u001b[0m\u001b[1;33m(\u001b[0m\u001b[1;34m\"V\"\u001b[0m\u001b[1;33m)\u001b[0m\u001b[1;33m\u001b[0m\u001b[0m\n\u001b[0m\u001b[0;32m      2\u001b[0m \u001b[0mdf\u001b[0m\u001b[1;33m.\u001b[0m\u001b[0madjusted_close\u001b[0m\u001b[1;33m.\u001b[0m\u001b[0mcalc_stats\u001b[0m\u001b[1;33m(\u001b[0m\u001b[1;33m)\u001b[0m\u001b[1;33m.\u001b[0m\u001b[0mdisplay\u001b[0m\u001b[1;33m(\u001b[0m\u001b[1;33m)\u001b[0m\u001b[1;33m\u001b[0m\u001b[0m\n",
      "\u001b[1;31mNameError\u001b[0m: name 'historical_data1' is not defined"
     ]
    }
   ],
   "source": [
    "df = historical_data1(\"V\")\n",
    "df.adjusted_close.calc_stats().display()"
   ]
  },
  {
   "cell_type": "code",
   "execution_count": null,
   "metadata": {
    "collapsed": true
   },
   "outputs": [],
   "source": []
  },
  {
   "cell_type": "code",
   "execution_count": null,
   "metadata": {
    "collapsed": true
   },
   "outputs": [],
   "source": []
  }
 ],
 "metadata": {
  "kernelspec": {
   "display_name": "Python 3",
   "language": "python",
   "name": "python3"
  },
  "language_info": {
   "codemirror_mode": {
    "name": "ipython",
    "version": 3
   },
   "file_extension": ".py",
   "mimetype": "text/x-python",
   "name": "python",
   "nbconvert_exporter": "python",
   "pygments_lexer": "ipython3",
   "version": "3.6.3"
  }
 },
 "nbformat": 4,
 "nbformat_minor": 2
}
