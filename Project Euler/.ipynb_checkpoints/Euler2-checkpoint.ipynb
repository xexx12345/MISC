{
 "cells": [
  {
   "cell_type": "code",
   "execution_count": null,
   "metadata": {},
   "outputs": [],
   "source": [
    "\n",
    "#Euler 2\n",
    "\n",
    "def fib(n):\n",
    "    a = 1\n",
    "    b = 2\n",
    "    for i in range(n):\n",
    "        print(a)\n",
    "        temp = a + b\n",
    "        a = b\n",
    "        b = temp\n",
    "        \n",
    "        \n",
    "def fib1(n):\n",
    "    a = 1\n",
    "    b = 2\n",
    "    for i in range(n):\n",
    "        yield a,\n",
    "        print(a)\n",
    "        a, b = b, a + b\n",
    "\n"
   ]
  }
 ],
 "metadata": {
  "kernelspec": {
   "display_name": "Python 3",
   "language": "python",
   "name": "python3"
  },
  "language_info": {
   "codemirror_mode": {
    "name": "ipython",
    "version": 3
   },
   "file_extension": ".py",
   "mimetype": "text/x-python",
   "name": "python",
   "nbconvert_exporter": "python",
   "pygments_lexer": "ipython3",
   "version": "3.6.1"
  }
 },
 "nbformat": 4,
 "nbformat_minor": 2
}
