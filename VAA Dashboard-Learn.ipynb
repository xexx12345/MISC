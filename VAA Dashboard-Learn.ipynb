{
 "cells": [
  {
   "cell_type": "markdown",
   "metadata": {},
   "source": [
    "The model includes both an offensive and defensive universe:\n",
    "- Offensive: US equities (represented by SPY), international equities (EFA), emerging market equities (EEM) and US aggregate bonds (AGG). More on the seemingly odd inclusion of AGG as an offensive asset in a moment.\n",
    "- Defensive: US corporate bonds (LQD), US intermediate-term Treasuries (IEF) and US short-term Treasuries (SHY).\n",
    "- For all assets, at the close on the last trading day of the month, calculate a “momentum score” based on month-end data as follows:\n",
    "$$12(\\frac{p_0}{p_1} – 1) + 4(\\frac{p_0}{p_3} – 1) + 2(\\frac{p_0}{p_6} – 1) + (\\frac{p_0}{p_{12}} – 1)$$\n",
    " - Where p0 = the asset price at today’s close, p1 = the asset price at the close of the previous month, etc.\n",
    " - Note how this approach overweights more recent months. Doing the math, the most recent 1-month change (p0/p1 – 1) determines 40% of the momentum score, while the most distant month (p11/p12 – 1) determines just ~2%.\n",
    "\n",
    "- If all four of the offensive assets exhibit positive momentum scores, select the offensive asset with the highest score and allocate 100% of the portfolio to that asset at the close. Note the use of both absolute and relative momentum here, an idea popularized by Gary Antonacci as “Dual Momentum”. Why is that important? Historically, absolute momentum has done well minimizing losses, while relative momentum has helped in generating outsized returns.\n",
    "- If any of the four offensive assets exhibit negative momentum scores, select the defensive asset (LQD, IEF or SHY) with the highest score (regardless of whether the score is > 0) and allocate 100% of the portfolio to that asset at the close. As we do throughout this site, trades in SHY are assumed to be placed in cash, as it’s more relevant to today’s market given SHY’s low yields coupled with the impact of transaction costs and how frequently this strategy trades.\n",
    "- Hold the position until the final trading day of the following month."
   ]
  },
  {
   "cell_type": "code",
   "execution_count": 1,
   "metadata": {
    "collapsed": true
   },
   "outputs": [],
   "source": [
    "# -*- coding: utf-8 -*-\n",
    "\"\"\"\n",
    "Created on Fri May 25 22:22:16 2018\n",
    "\n",
    "@author: xexx\n",
    "\"\"\"\n",
    "\n",
    "import pandas as pd\n",
    "import numpy as np\n",
    "import pickle\n",
    "\n",
    "#pull in data from AlphaVantage\n",
    "from alpha_vantage.timeseries import TimeSeries\n",
    "ts = TimeSeries(key='NXY0VT9AHBRYGKKC',output_format='pandas')\n",
    "\n",
    "\n"
   ]
  },
  {
   "cell_type": "code",
   "execution_count": 2,
   "metadata": {
    "collapsed": true
   },
   "outputs": [],
   "source": [
    "def historical_data(ticker, outsize = \"full\"):\n",
    "    #outsize can be compact and full. \n",
    "    #compact returns only the latest 100 data points; full \n",
    "    #returns the full-length time series of up to 20 years of historical data. The \"compact\" option is \n",
    "    #recommended if you would like to reduce the data size of each API call\n",
    "    alphavantage_link = 'https://www.alphavantage.co/query?function=TIME_SERIES_DAILY&symbol={0}&apikey=NXY0VT9AHBRYGKKC&datatype=csv&outputsize={1}'.format(ticker, outsize)\n",
    "    df = pd.read_csv(alphavantage_link)\n",
    "    return df\n"
   ]
  },
  {
   "cell_type": "code",
   "execution_count": 3,
   "metadata": {
    "collapsed": true
   },
   "outputs": [],
   "source": [
    "VAA = ['AGG', 'EFA', 'EEM']\n",
    "Maindf = historical_data(\"SPY\")\n",
    "Maindf.index = pd.to_datetime(Maindf.timestamp) #set the index as the timestamp\n",
    "#Maindf.index = pd.to_datetime(Maindf.index) #make the index datetime\n",
    "Maindf = Maindf[['timestamp','close']]\n",
    "Maindf.columns = [\"timestamp\",\"SPY\"]\n"
   ]
  },
  {
   "cell_type": "code",
   "execution_count": 4,
   "metadata": {
    "collapsed": true
   },
   "outputs": [],
   "source": [
    "for ticker in VAA:\n",
    "    temp_df = historical_data(ticker)\n",
    "    temp_df.index = pd.to_datetime(temp_df.timestamp) #set the index as the timestamp\n",
    "    temp_df = temp_df[['close']]\n",
    "    temp_df.columns = [ticker]\n",
    "    Maindf = Maindf.join(temp_df, how = \"left\")\n",
    "\n",
    "Maindf.dropna(inplace = True)\n",
    "Maindf = Maindf.sort_index()"
   ]
  },
  {
   "cell_type": "code",
   "execution_count": 5,
   "metadata": {
    "collapsed": true
   },
   "outputs": [],
   "source": [
    "Maindf = Maindf.sort_index()"
   ]
  },
  {
   "cell_type": "code",
   "execution_count": 6,
   "metadata": {},
   "outputs": [
    {
     "data": {
      "text/html": [
       "<div>\n",
       "<style>\n",
       "    .dataframe thead tr:only-child th {\n",
       "        text-align: right;\n",
       "    }\n",
       "\n",
       "    .dataframe thead th {\n",
       "        text-align: left;\n",
       "    }\n",
       "\n",
       "    .dataframe tbody tr th {\n",
       "        vertical-align: top;\n",
       "    }\n",
       "</style>\n",
       "<table border=\"1\" class=\"dataframe\">\n",
       "  <thead>\n",
       "    <tr style=\"text-align: right;\">\n",
       "      <th></th>\n",
       "      <th>timestamp</th>\n",
       "      <th>SPY</th>\n",
       "      <th>AGG</th>\n",
       "      <th>EFA</th>\n",
       "      <th>EEM</th>\n",
       "    </tr>\n",
       "    <tr>\n",
       "      <th>timestamp</th>\n",
       "      <th></th>\n",
       "      <th></th>\n",
       "      <th></th>\n",
       "      <th></th>\n",
       "      <th></th>\n",
       "    </tr>\n",
       "  </thead>\n",
       "  <tbody>\n",
       "    <tr>\n",
       "      <th>2003-09-26</th>\n",
       "      <td>2003-09-26</td>\n",
       "      <td>99.95</td>\n",
       "      <td>102.45</td>\n",
       "      <td>117.00</td>\n",
       "      <td>135.40</td>\n",
       "    </tr>\n",
       "    <tr>\n",
       "      <th>2003-09-29</th>\n",
       "      <td>2003-09-29</td>\n",
       "      <td>100.93</td>\n",
       "      <td>102.17</td>\n",
       "      <td>118.50</td>\n",
       "      <td>136.36</td>\n",
       "    </tr>\n",
       "    <tr>\n",
       "      <th>2003-09-30</th>\n",
       "      <td>2003-09-30</td>\n",
       "      <td>99.95</td>\n",
       "      <td>102.70</td>\n",
       "      <td>117.00</td>\n",
       "      <td>135.93</td>\n",
       "    </tr>\n",
       "    <tr>\n",
       "      <th>2003-10-01</th>\n",
       "      <td>2003-10-01</td>\n",
       "      <td>102.08</td>\n",
       "      <td>102.65</td>\n",
       "      <td>120.84</td>\n",
       "      <td>139.50</td>\n",
       "    </tr>\n",
       "    <tr>\n",
       "      <th>2003-10-02</th>\n",
       "      <td>2003-10-02</td>\n",
       "      <td>102.45</td>\n",
       "      <td>102.49</td>\n",
       "      <td>120.65</td>\n",
       "      <td>141.50</td>\n",
       "    </tr>\n",
       "  </tbody>\n",
       "</table>\n",
       "</div>"
      ],
      "text/plain": [
       "             timestamp     SPY     AGG     EFA     EEM\n",
       "timestamp                                             \n",
       "2003-09-26  2003-09-26   99.95  102.45  117.00  135.40\n",
       "2003-09-29  2003-09-29  100.93  102.17  118.50  136.36\n",
       "2003-09-30  2003-09-30   99.95  102.70  117.00  135.93\n",
       "2003-10-01  2003-10-01  102.08  102.65  120.84  139.50\n",
       "2003-10-02  2003-10-02  102.45  102.49  120.65  141.50"
      ]
     },
     "execution_count": 6,
     "metadata": {},
     "output_type": "execute_result"
    }
   ],
   "source": [
    "Maindf.head(5)"
   ]
  },
  {
   "cell_type": "code",
   "execution_count": 7,
   "metadata": {
    "collapsed": true
   },
   "outputs": [],
   "source": [
    "Maindf['Year'] = Maindf.index.year\n",
    "Maindf['Month'] = Maindf.index.month\n"
   ]
  },
  {
   "cell_type": "code",
   "execution_count": 8,
   "metadata": {
    "collapsed": true
   },
   "outputs": [],
   "source": [
    "Maindf['Month Change'] = Maindf['Month'] - Maindf['Month'].shift(1) #shift 1 is to shift down "
   ]
  },
  {
   "cell_type": "code",
   "execution_count": 9,
   "metadata": {
    "collapsed": true
   },
   "outputs": [],
   "source": [
    "Maindf_EOM = Maindf[Maindf['Month Change'] != 0]"
   ]
  },
  {
   "cell_type": "code",
   "execution_count": 10,
   "metadata": {},
   "outputs": [],
   "source": [
    "Maindf_EOM = Maindf_EOM[['SPY','AGG','EFA','EEM']]"
   ]
  },
  {
   "cell_type": "code",
   "execution_count": 11,
   "metadata": {},
   "outputs": [],
   "source": [
    "Maindf_EOM.to_csv('VAA.csv')"
   ]
  },
  {
   "cell_type": "code",
   "execution_count": null,
   "metadata": {},
   "outputs": [],
   "source": []
  },
  {
   "cell_type": "code",
   "execution_count": 12,
   "metadata": {
    "collapsed": true
   },
   "outputs": [],
   "source": [
    "for ticker in Maindf_EOM.columns:\n",
    "    Maindf_EOM[ticker] = Maindf_EOM[ticker].iloc[12]/Maindf_EOM[ticker] - 1"
   ]
  },
  {
   "cell_type": "code",
   "execution_count": null,
   "metadata": {
    "collapsed": true
   },
   "outputs": [],
   "source": []
  },
  {
   "cell_type": "code",
   "execution_count": null,
   "metadata": {
    "collapsed": true
   },
   "outputs": [],
   "source": []
  },
  {
   "cell_type": "code",
   "execution_count": null,
   "metadata": {
    "collapsed": true
   },
   "outputs": [],
   "source": []
  },
  {
   "cell_type": "code",
   "execution_count": null,
   "metadata": {
    "collapsed": true
   },
   "outputs": [],
   "source": []
  },
  {
   "cell_type": "code",
   "execution_count": 13,
   "metadata": {
    "collapsed": true
   },
   "outputs": [],
   "source": [
    "with open('filename.pickle', 'wb') as handle:\n",
    "    pickle.dump(Maindf, handle, protocol=pickle.HIGHEST_PROTOCOL)"
   ]
  },
  {
   "cell_type": "code",
   "execution_count": 14,
   "metadata": {
    "collapsed": true
   },
   "outputs": [],
   "source": [
    "with open('filename.pickle', 'rb') as handle:\n",
    "    b = pickle.load(handle)"
   ]
  },
  {
   "cell_type": "code",
   "execution_count": 15,
   "metadata": {
    "collapsed": true
   },
   "outputs": [],
   "source": [
    "import volatility as vm"
   ]
  },
  {
   "cell_type": "code",
   "execution_count": 16,
   "metadata": {},
   "outputs": [
    {
     "data": {
      "text/html": [
       "<div>\n",
       "<style>\n",
       "    .dataframe thead tr:only-child th {\n",
       "        text-align: right;\n",
       "    }\n",
       "\n",
       "    .dataframe thead th {\n",
       "        text-align: left;\n",
       "    }\n",
       "\n",
       "    .dataframe tbody tr th {\n",
       "        vertical-align: top;\n",
       "    }\n",
       "</style>\n",
       "<table border=\"1\" class=\"dataframe\">\n",
       "  <thead>\n",
       "    <tr style=\"text-align: right;\">\n",
       "      <th></th>\n",
       "      <th>timestamp</th>\n",
       "      <th>SPY</th>\n",
       "      <th>AGG</th>\n",
       "      <th>EFA</th>\n",
       "      <th>EEM</th>\n",
       "      <th>Year</th>\n",
       "      <th>Month</th>\n",
       "      <th>Month Change</th>\n",
       "    </tr>\n",
       "    <tr>\n",
       "      <th>timestamp</th>\n",
       "      <th></th>\n",
       "      <th></th>\n",
       "      <th></th>\n",
       "      <th></th>\n",
       "      <th></th>\n",
       "      <th></th>\n",
       "      <th></th>\n",
       "      <th></th>\n",
       "    </tr>\n",
       "  </thead>\n",
       "  <tbody>\n",
       "    <tr>\n",
       "      <th>2018-05-17</th>\n",
       "      <td>2018-05-17</td>\n",
       "      <td>272.01</td>\n",
       "      <td>105.03</td>\n",
       "      <td>71.59</td>\n",
       "      <td>46.46</td>\n",
       "      <td>2018</td>\n",
       "      <td>5</td>\n",
       "      <td>0.0</td>\n",
       "    </tr>\n",
       "    <tr>\n",
       "      <th>2018-05-18</th>\n",
       "      <td>2018-05-18</td>\n",
       "      <td>271.33</td>\n",
       "      <td>105.30</td>\n",
       "      <td>71.33</td>\n",
       "      <td>46.07</td>\n",
       "      <td>2018</td>\n",
       "      <td>5</td>\n",
       "      <td>0.0</td>\n",
       "    </tr>\n",
       "    <tr>\n",
       "      <th>2018-05-21</th>\n",
       "      <td>2018-05-21</td>\n",
       "      <td>273.37</td>\n",
       "      <td>105.31</td>\n",
       "      <td>71.78</td>\n",
       "      <td>46.35</td>\n",
       "      <td>2018</td>\n",
       "      <td>5</td>\n",
       "      <td>0.0</td>\n",
       "    </tr>\n",
       "    <tr>\n",
       "      <th>2018-05-22</th>\n",
       "      <td>2018-05-22</td>\n",
       "      <td>272.61</td>\n",
       "      <td>105.31</td>\n",
       "      <td>71.69</td>\n",
       "      <td>46.51</td>\n",
       "      <td>2018</td>\n",
       "      <td>5</td>\n",
       "      <td>0.0</td>\n",
       "    </tr>\n",
       "    <tr>\n",
       "      <th>2018-05-23</th>\n",
       "      <td>2018-05-23</td>\n",
       "      <td>273.36</td>\n",
       "      <td>105.60</td>\n",
       "      <td>70.90</td>\n",
       "      <td>46.49</td>\n",
       "      <td>2018</td>\n",
       "      <td>5</td>\n",
       "      <td>0.0</td>\n",
       "    </tr>\n",
       "    <tr>\n",
       "      <th>2018-05-24</th>\n",
       "      <td>2018-05-24</td>\n",
       "      <td>272.80</td>\n",
       "      <td>105.89</td>\n",
       "      <td>70.68</td>\n",
       "      <td>46.24</td>\n",
       "      <td>2018</td>\n",
       "      <td>5</td>\n",
       "      <td>0.0</td>\n",
       "    </tr>\n",
       "    <tr>\n",
       "      <th>2018-05-25</th>\n",
       "      <td>2018-05-25</td>\n",
       "      <td>272.15</td>\n",
       "      <td>106.12</td>\n",
       "      <td>70.22</td>\n",
       "      <td>46.43</td>\n",
       "      <td>2018</td>\n",
       "      <td>5</td>\n",
       "      <td>0.0</td>\n",
       "    </tr>\n",
       "    <tr>\n",
       "      <th>2018-05-29</th>\n",
       "      <td>2018-05-29</td>\n",
       "      <td>269.02</td>\n",
       "      <td>106.82</td>\n",
       "      <td>68.79</td>\n",
       "      <td>45.35</td>\n",
       "      <td>2018</td>\n",
       "      <td>5</td>\n",
       "      <td>0.0</td>\n",
       "    </tr>\n",
       "    <tr>\n",
       "      <th>2018-05-30</th>\n",
       "      <td>2018-05-30</td>\n",
       "      <td>272.61</td>\n",
       "      <td>106.55</td>\n",
       "      <td>69.84</td>\n",
       "      <td>45.71</td>\n",
       "      <td>2018</td>\n",
       "      <td>5</td>\n",
       "      <td>0.0</td>\n",
       "    </tr>\n",
       "    <tr>\n",
       "      <th>2018-05-31</th>\n",
       "      <td>2018-05-31</td>\n",
       "      <td>270.94</td>\n",
       "      <td>106.46</td>\n",
       "      <td>69.40</td>\n",
       "      <td>45.69</td>\n",
       "      <td>2018</td>\n",
       "      <td>5</td>\n",
       "      <td>0.0</td>\n",
       "    </tr>\n",
       "  </tbody>\n",
       "</table>\n",
       "</div>"
      ],
      "text/plain": [
       "             timestamp     SPY     AGG    EFA    EEM  Year  Month  \\\n",
       "timestamp                                                           \n",
       "2018-05-17  2018-05-17  272.01  105.03  71.59  46.46  2018      5   \n",
       "2018-05-18  2018-05-18  271.33  105.30  71.33  46.07  2018      5   \n",
       "2018-05-21  2018-05-21  273.37  105.31  71.78  46.35  2018      5   \n",
       "2018-05-22  2018-05-22  272.61  105.31  71.69  46.51  2018      5   \n",
       "2018-05-23  2018-05-23  273.36  105.60  70.90  46.49  2018      5   \n",
       "2018-05-24  2018-05-24  272.80  105.89  70.68  46.24  2018      5   \n",
       "2018-05-25  2018-05-25  272.15  106.12  70.22  46.43  2018      5   \n",
       "2018-05-29  2018-05-29  269.02  106.82  68.79  45.35  2018      5   \n",
       "2018-05-30  2018-05-30  272.61  106.55  69.84  45.71  2018      5   \n",
       "2018-05-31  2018-05-31  270.94  106.46  69.40  45.69  2018      5   \n",
       "\n",
       "            Month Change  \n",
       "timestamp                 \n",
       "2018-05-17           0.0  \n",
       "2018-05-18           0.0  \n",
       "2018-05-21           0.0  \n",
       "2018-05-22           0.0  \n",
       "2018-05-23           0.0  \n",
       "2018-05-24           0.0  \n",
       "2018-05-25           0.0  \n",
       "2018-05-29           0.0  \n",
       "2018-05-30           0.0  \n",
       "2018-05-31           0.0  "
      ]
     },
     "execution_count": 16,
     "metadata": {},
     "output_type": "execute_result"
    }
   ],
   "source": [
    "b.tail(10)"
   ]
  },
  {
   "cell_type": "code",
   "execution_count": null,
   "metadata": {
    "collapsed": true
   },
   "outputs": [],
   "source": []
  },
  {
   "cell_type": "code",
   "execution_count": null,
   "metadata": {
    "collapsed": true
   },
   "outputs": [],
   "source": []
  },
  {
   "cell_type": "code",
   "execution_count": null,
   "metadata": {
    "collapsed": true
   },
   "outputs": [],
   "source": []
  },
  {
   "cell_type": "code",
   "execution_count": null,
   "metadata": {
    "collapsed": true
   },
   "outputs": [],
   "source": []
  },
  {
   "cell_type": "code",
   "execution_count": null,
   "metadata": {
    "collapsed": true
   },
   "outputs": [],
   "source": []
  },
  {
   "cell_type": "code",
   "execution_count": null,
   "metadata": {
    "collapsed": true
   },
   "outputs": [],
   "source": []
  },
  {
   "cell_type": "code",
   "execution_count": null,
   "metadata": {
    "collapsed": true
   },
   "outputs": [],
   "source": []
  },
  {
   "cell_type": "code",
   "execution_count": null,
   "metadata": {
    "collapsed": true
   },
   "outputs": [],
   "source": []
  },
  {
   "cell_type": "code",
   "execution_count": null,
   "metadata": {
    "collapsed": true
   },
   "outputs": [],
   "source": []
  },
  {
   "cell_type": "code",
   "execution_count": null,
   "metadata": {
    "collapsed": true
   },
   "outputs": [],
   "source": []
  },
  {
   "cell_type": "code",
   "execution_count": null,
   "metadata": {
    "collapsed": true
   },
   "outputs": [],
   "source": []
  },
  {
   "cell_type": "code",
   "execution_count": null,
   "metadata": {
    "collapsed": true
   },
   "outputs": [],
   "source": []
  },
  {
   "cell_type": "code",
   "execution_count": null,
   "metadata": {
    "collapsed": true
   },
   "outputs": [],
   "source": []
  },
  {
   "cell_type": "code",
   "execution_count": null,
   "metadata": {
    "collapsed": true
   },
   "outputs": [],
   "source": []
  },
  {
   "cell_type": "code",
   "execution_count": null,
   "metadata": {
    "collapsed": true
   },
   "outputs": [],
   "source": []
  },
  {
   "cell_type": "code",
   "execution_count": null,
   "metadata": {
    "collapsed": true
   },
   "outputs": [],
   "source": []
  },
  {
   "cell_type": "code",
   "execution_count": null,
   "metadata": {
    "collapsed": true
   },
   "outputs": [],
   "source": []
  },
  {
   "cell_type": "code",
   "execution_count": null,
   "metadata": {
    "collapsed": true
   },
   "outputs": [],
   "source": []
  }
 ],
 "metadata": {
  "kernelspec": {
   "display_name": "Python 3",
   "language": "python",
   "name": "python3"
  },
  "language_info": {
   "codemirror_mode": {
    "name": "ipython",
    "version": 3
   },
   "file_extension": ".py",
   "mimetype": "text/x-python",
   "name": "python",
   "nbconvert_exporter": "python",
   "pygments_lexer": "ipython3",
   "version": "3.6.1"
  }
 },
 "nbformat": 4,
 "nbformat_minor": 2
}
