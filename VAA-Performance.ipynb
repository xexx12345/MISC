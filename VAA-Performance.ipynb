{
 "cells": [
  {
   "cell_type": "code",
   "execution_count": 103,
   "metadata": {},
   "outputs": [],
   "source": [
    "import pandas as pd\n",
    "import numpy as np\n",
    "import pickle\n",
    "from pandas import ExcelWriter\n",
    "import ffn\n",
    "%matplotlib inline\n",
    "\n",
    "def save_xls(list_dfs, xls_path,sheet_names):\n",
    "    writer = ExcelWriter(xls_path)\n",
    "    for n, df in enumerate(list_dfs):\n",
    "        df.to_excel(writer, sheet_names[n])\n",
    "    writer.save()\n",
    "    return\n",
    "\n",
    "#pull in data from AlphaVantage\n",
    "from alpha_vantage.timeseries import TimeSeries\n",
    "ts = TimeSeries(key='NXY0VT9AHBRYGKKC',output_format='pandas')"
   ]
  },
  {
   "cell_type": "code",
   "execution_count": 104,
   "metadata": {},
   "outputs": [],
   "source": [
    "def historical_data(ticker, outsize = \"full\"):\n",
    "    #outsize can be compact and full. \n",
    "    #compact returns only the latest 100 data points; full \n",
    "    #returns the full-length time series of up to 20 years of historical data. The \"compact\" option is \n",
    "    #recommended if you would like to reduce the data size of each API call\n",
    "    alphavantage_link = 'https://www.alphavantage.co/query?function=TIME_SERIES_DAILY&symbol={0}&apikey=NXY0VT9AHBRYGKKC&datatype=csv&outputsize={1}'.format(ticker, outsize)\n",
    "    df = pd.read_csv(alphavantage_link)\n",
    "    return df"
   ]
  },
  {
   "cell_type": "code",
   "execution_count": 105,
   "metadata": {},
   "outputs": [],
   "source": [
    "VAA = ['AGG', 'EFA', 'EEM','LQD','IEF','SHY']\n",
    "Maindf = historical_data(\"SPY\")\n",
    "Maindf.index = pd.to_datetime(Maindf.timestamp) #set the index as the timestamp\n",
    "#Maindf.index = pd.to_datetime(Maindf.index) #make the index datetime\n",
    "Maindf = Maindf[['timestamp','close']]\n",
    "Maindf.columns = [\"timestamp\",\"SPY\"]"
   ]
  },
  {
   "cell_type": "code",
   "execution_count": 106,
   "metadata": {},
   "outputs": [],
   "source": [
    "for ticker in VAA:\n",
    "    temp_df = historical_data(ticker)\n",
    "    temp_df.index = pd.to_datetime(temp_df.timestamp) #set the index as the timestamp\n",
    "    temp_df = temp_df[['close']]\n",
    "    temp_df.columns = [ticker]\n",
    "    Maindf = Maindf.join(temp_df, how = \"left\")\n",
    "\n",
    "Maindf.dropna(inplace = True)\n",
    "Maindf = Maindf.sort_index()"
   ]
  },
  {
   "cell_type": "code",
   "execution_count": 107,
   "metadata": {},
   "outputs": [],
   "source": [
    "Maindf = Maindf.sort_index()"
   ]
  },
  {
   "cell_type": "code",
   "execution_count": 108,
   "metadata": {},
   "outputs": [],
   "source": [
    "Maindf['Year'] = Maindf.index.year\n",
    "Maindf['Month'] = Maindf.index.month\n",
    "Maindf['Day'] = Maindf.index.day\n",
    "Maindf['Month Change'] = Maindf['Month'] - Maindf['Month'].shift(-1) #shift -1 moves row up "
   ]
  },
  {
   "cell_type": "code",
   "execution_count": 109,
   "metadata": {},
   "outputs": [
    {
     "data": {
      "text/html": [
       "<div>\n",
       "<style scoped>\n",
       "    .dataframe tbody tr th:only-of-type {\n",
       "        vertical-align: middle;\n",
       "    }\n",
       "\n",
       "    .dataframe tbody tr th {\n",
       "        vertical-align: top;\n",
       "    }\n",
       "\n",
       "    .dataframe thead th {\n",
       "        text-align: right;\n",
       "    }\n",
       "</style>\n",
       "<table border=\"1\" class=\"dataframe\">\n",
       "  <thead>\n",
       "    <tr style=\"text-align: right;\">\n",
       "      <th></th>\n",
       "      <th>timestamp</th>\n",
       "      <th>SPY</th>\n",
       "      <th>AGG</th>\n",
       "      <th>EFA</th>\n",
       "      <th>EEM</th>\n",
       "      <th>LQD</th>\n",
       "      <th>IEF</th>\n",
       "      <th>SHY</th>\n",
       "      <th>Year</th>\n",
       "      <th>Month</th>\n",
       "      <th>Day</th>\n",
       "      <th>Month Change</th>\n",
       "    </tr>\n",
       "    <tr>\n",
       "      <th>timestamp</th>\n",
       "      <th></th>\n",
       "      <th></th>\n",
       "      <th></th>\n",
       "      <th></th>\n",
       "      <th></th>\n",
       "      <th></th>\n",
       "      <th></th>\n",
       "      <th></th>\n",
       "      <th></th>\n",
       "      <th></th>\n",
       "      <th></th>\n",
       "      <th></th>\n",
       "    </tr>\n",
       "  </thead>\n",
       "  <tbody>\n",
       "    <tr>\n",
       "      <th>2003-09-26</th>\n",
       "      <td>2003-09-26</td>\n",
       "      <td>99.95</td>\n",
       "      <td>102.45</td>\n",
       "      <td>117.00</td>\n",
       "      <td>135.40</td>\n",
       "      <td>111.85</td>\n",
       "      <td>86.13</td>\n",
       "      <td>82.60</td>\n",
       "      <td>2003</td>\n",
       "      <td>9</td>\n",
       "      <td>26</td>\n",
       "      <td>0.0</td>\n",
       "    </tr>\n",
       "    <tr>\n",
       "      <th>2003-09-29</th>\n",
       "      <td>2003-09-29</td>\n",
       "      <td>100.93</td>\n",
       "      <td>102.17</td>\n",
       "      <td>118.50</td>\n",
       "      <td>136.36</td>\n",
       "      <td>111.55</td>\n",
       "      <td>85.76</td>\n",
       "      <td>82.56</td>\n",
       "      <td>2003</td>\n",
       "      <td>9</td>\n",
       "      <td>29</td>\n",
       "      <td>0.0</td>\n",
       "    </tr>\n",
       "    <tr>\n",
       "      <th>2003-09-30</th>\n",
       "      <td>2003-09-30</td>\n",
       "      <td>99.95</td>\n",
       "      <td>102.70</td>\n",
       "      <td>117.00</td>\n",
       "      <td>135.93</td>\n",
       "      <td>112.29</td>\n",
       "      <td>86.59</td>\n",
       "      <td>82.73</td>\n",
       "      <td>2003</td>\n",
       "      <td>9</td>\n",
       "      <td>30</td>\n",
       "      <td>-1.0</td>\n",
       "    </tr>\n",
       "    <tr>\n",
       "      <th>2003-10-01</th>\n",
       "      <td>2003-10-01</td>\n",
       "      <td>102.08</td>\n",
       "      <td>102.65</td>\n",
       "      <td>120.84</td>\n",
       "      <td>139.50</td>\n",
       "      <td>111.88</td>\n",
       "      <td>86.24</td>\n",
       "      <td>82.65</td>\n",
       "      <td>2003</td>\n",
       "      <td>10</td>\n",
       "      <td>1</td>\n",
       "      <td>0.0</td>\n",
       "    </tr>\n",
       "    <tr>\n",
       "      <th>2003-10-02</th>\n",
       "      <td>2003-10-02</td>\n",
       "      <td>102.45</td>\n",
       "      <td>102.49</td>\n",
       "      <td>120.65</td>\n",
       "      <td>141.50</td>\n",
       "      <td>111.45</td>\n",
       "      <td>85.93</td>\n",
       "      <td>82.65</td>\n",
       "      <td>2003</td>\n",
       "      <td>10</td>\n",
       "      <td>2</td>\n",
       "      <td>0.0</td>\n",
       "    </tr>\n",
       "    <tr>\n",
       "      <th>2003-10-03</th>\n",
       "      <td>2003-10-03</td>\n",
       "      <td>103.39</td>\n",
       "      <td>101.75</td>\n",
       "      <td>122.41</td>\n",
       "      <td>142.90</td>\n",
       "      <td>109.90</td>\n",
       "      <td>84.74</td>\n",
       "      <td>82.44</td>\n",
       "      <td>2003</td>\n",
       "      <td>10</td>\n",
       "      <td>3</td>\n",
       "      <td>0.0</td>\n",
       "    </tr>\n",
       "    <tr>\n",
       "      <th>2003-10-06</th>\n",
       "      <td>2003-10-06</td>\n",
       "      <td>103.86</td>\n",
       "      <td>101.90</td>\n",
       "      <td>123.69</td>\n",
       "      <td>143.45</td>\n",
       "      <td>110.01</td>\n",
       "      <td>84.99</td>\n",
       "      <td>82.50</td>\n",
       "      <td>2003</td>\n",
       "      <td>10</td>\n",
       "      <td>6</td>\n",
       "      <td>0.0</td>\n",
       "    </tr>\n",
       "    <tr>\n",
       "      <th>2003-10-07</th>\n",
       "      <td>2003-10-07</td>\n",
       "      <td>104.26</td>\n",
       "      <td>101.55</td>\n",
       "      <td>123.50</td>\n",
       "      <td>143.30</td>\n",
       "      <td>109.64</td>\n",
       "      <td>84.50</td>\n",
       "      <td>82.42</td>\n",
       "      <td>2003</td>\n",
       "      <td>10</td>\n",
       "      <td>7</td>\n",
       "      <td>0.0</td>\n",
       "    </tr>\n",
       "    <tr>\n",
       "      <th>2003-10-08</th>\n",
       "      <td>2003-10-08</td>\n",
       "      <td>104.00</td>\n",
       "      <td>101.80</td>\n",
       "      <td>122.99</td>\n",
       "      <td>144.37</td>\n",
       "      <td>110.04</td>\n",
       "      <td>84.65</td>\n",
       "      <td>82.42</td>\n",
       "      <td>2003</td>\n",
       "      <td>10</td>\n",
       "      <td>8</td>\n",
       "      <td>0.0</td>\n",
       "    </tr>\n",
       "    <tr>\n",
       "      <th>2003-10-09</th>\n",
       "      <td>2003-10-09</td>\n",
       "      <td>104.28</td>\n",
       "      <td>101.44</td>\n",
       "      <td>123.84</td>\n",
       "      <td>146.80</td>\n",
       "      <td>109.66</td>\n",
       "      <td>84.38</td>\n",
       "      <td>82.41</td>\n",
       "      <td>2003</td>\n",
       "      <td>10</td>\n",
       "      <td>9</td>\n",
       "      <td>0.0</td>\n",
       "    </tr>\n",
       "  </tbody>\n",
       "</table>\n",
       "</div>"
      ],
      "text/plain": [
       "             timestamp     SPY     AGG     EFA     EEM     LQD    IEF    SHY  \\\n",
       "timestamp                                                                      \n",
       "2003-09-26  2003-09-26   99.95  102.45  117.00  135.40  111.85  86.13  82.60   \n",
       "2003-09-29  2003-09-29  100.93  102.17  118.50  136.36  111.55  85.76  82.56   \n",
       "2003-09-30  2003-09-30   99.95  102.70  117.00  135.93  112.29  86.59  82.73   \n",
       "2003-10-01  2003-10-01  102.08  102.65  120.84  139.50  111.88  86.24  82.65   \n",
       "2003-10-02  2003-10-02  102.45  102.49  120.65  141.50  111.45  85.93  82.65   \n",
       "2003-10-03  2003-10-03  103.39  101.75  122.41  142.90  109.90  84.74  82.44   \n",
       "2003-10-06  2003-10-06  103.86  101.90  123.69  143.45  110.01  84.99  82.50   \n",
       "2003-10-07  2003-10-07  104.26  101.55  123.50  143.30  109.64  84.50  82.42   \n",
       "2003-10-08  2003-10-08  104.00  101.80  122.99  144.37  110.04  84.65  82.42   \n",
       "2003-10-09  2003-10-09  104.28  101.44  123.84  146.80  109.66  84.38  82.41   \n",
       "\n",
       "            Year  Month  Day  Month Change  \n",
       "timestamp                                   \n",
       "2003-09-26  2003      9   26           0.0  \n",
       "2003-09-29  2003      9   29           0.0  \n",
       "2003-09-30  2003      9   30          -1.0  \n",
       "2003-10-01  2003     10    1           0.0  \n",
       "2003-10-02  2003     10    2           0.0  \n",
       "2003-10-03  2003     10    3           0.0  \n",
       "2003-10-06  2003     10    6           0.0  \n",
       "2003-10-07  2003     10    7           0.0  \n",
       "2003-10-08  2003     10    8           0.0  \n",
       "2003-10-09  2003     10    9           0.0  "
      ]
     },
     "execution_count": 109,
     "metadata": {},
     "output_type": "execute_result"
    }
   ],
   "source": [
    "Maindf.head(10)"
   ]
  },
  {
   "cell_type": "code",
   "execution_count": null,
   "metadata": {},
   "outputs": [],
   "source": []
  },
  {
   "cell_type": "code",
   "execution_count": 110,
   "metadata": {},
   "outputs": [],
   "source": [
    "Maindf_EOM = Maindf[Maindf['Month Change'] != 0]\n",
    "Maindf_EOM = Maindf_EOM[['SPY','AGG','EFA','EEM','LQD','IEF','SHY']]"
   ]
  },
  {
   "cell_type": "code",
   "execution_count": 111,
   "metadata": {},
   "outputs": [],
   "source": [
    "Maindf_EOM_VAA = Maindf_EOM.pct_change(12) + 2 * Maindf_EOM.pct_change(6) + 4 * Maindf_EOM.pct_change(3) + 12 * Maindf_EOM.pct_change(1)"
   ]
  },
  {
   "cell_type": "code",
   "execution_count": 112,
   "metadata": {},
   "outputs": [
    {
     "data": {
      "text/html": [
       "<div>\n",
       "<style scoped>\n",
       "    .dataframe tbody tr th:only-of-type {\n",
       "        vertical-align: middle;\n",
       "    }\n",
       "\n",
       "    .dataframe tbody tr th {\n",
       "        vertical-align: top;\n",
       "    }\n",
       "\n",
       "    .dataframe thead th {\n",
       "        text-align: right;\n",
       "    }\n",
       "</style>\n",
       "<table border=\"1\" class=\"dataframe\">\n",
       "  <thead>\n",
       "    <tr style=\"text-align: right;\">\n",
       "      <th></th>\n",
       "      <th>SPY</th>\n",
       "      <th>AGG</th>\n",
       "      <th>EFA</th>\n",
       "      <th>EEM</th>\n",
       "      <th>LQD</th>\n",
       "      <th>IEF</th>\n",
       "      <th>SHY</th>\n",
       "    </tr>\n",
       "    <tr>\n",
       "      <th>timestamp</th>\n",
       "      <th></th>\n",
       "      <th></th>\n",
       "      <th></th>\n",
       "      <th></th>\n",
       "      <th></th>\n",
       "      <th></th>\n",
       "      <th></th>\n",
       "    </tr>\n",
       "  </thead>\n",
       "  <tbody>\n",
       "    <tr>\n",
       "      <th>2018-04-30</th>\n",
       "      <td>-0.016480</td>\n",
       "      <td>-0.310711</td>\n",
       "      <td>0.155278</td>\n",
       "      <td>-0.461291</td>\n",
       "      <td>-0.512819</td>\n",
       "      <td>-0.365218</td>\n",
       "      <td>-0.098303</td>\n",
       "    </tr>\n",
       "    <tr>\n",
       "      <th>2018-05-31</th>\n",
       "      <td>0.448191</td>\n",
       "      <td>-0.037642</td>\n",
       "      <td>-0.246528</td>\n",
       "      <td>-0.417471</td>\n",
       "      <td>-0.151303</td>\n",
       "      <td>0.003708</td>\n",
       "      <td>0.000828</td>\n",
       "    </tr>\n",
       "    <tr>\n",
       "      <th>2018-06-19</th>\n",
       "      <td>0.565365</td>\n",
       "      <td>-0.185228</td>\n",
       "      <td>-0.509293</td>\n",
       "      <td>-0.915219</td>\n",
       "      <td>-0.364928</td>\n",
       "      <td>-0.190390</td>\n",
       "      <td>-0.069247</td>\n",
       "    </tr>\n",
       "  </tbody>\n",
       "</table>\n",
       "</div>"
      ],
      "text/plain": [
       "                 SPY       AGG       EFA       EEM       LQD       IEF  \\\n",
       "timestamp                                                                \n",
       "2018-04-30 -0.016480 -0.310711  0.155278 -0.461291 -0.512819 -0.365218   \n",
       "2018-05-31  0.448191 -0.037642 -0.246528 -0.417471 -0.151303  0.003708   \n",
       "2018-06-19  0.565365 -0.185228 -0.509293 -0.915219 -0.364928 -0.190390   \n",
       "\n",
       "                 SHY  \n",
       "timestamp             \n",
       "2018-04-30 -0.098303  \n",
       "2018-05-31  0.000828  \n",
       "2018-06-19 -0.069247  "
      ]
     },
     "execution_count": 112,
     "metadata": {},
     "output_type": "execute_result"
    }
   ],
   "source": [
    "Maindf_EOM_VAA.tail(3)"
   ]
  },
  {
   "cell_type": "code",
   "execution_count": 113,
   "metadata": {},
   "outputs": [],
   "source": [
    "Maindf_EOM_VAA['Indicator'] = np.where(Maindf_EOM_VAA[['SPY','AGG','EFA','EEM']].min(axis = 1) > 0, Maindf_EOM_VAA[['SPY','AGG','EFA','EEM']].idxmax(axis = 1), Maindf_EOM_VAA[['LQD','IEF','SHY']].idxmax(axis = 1))"
   ]
  },
  {
   "cell_type": "code",
   "execution_count": 114,
   "metadata": {},
   "outputs": [
    {
     "data": {
      "text/html": [
       "<div>\n",
       "<style scoped>\n",
       "    .dataframe tbody tr th:only-of-type {\n",
       "        vertical-align: middle;\n",
       "    }\n",
       "\n",
       "    .dataframe tbody tr th {\n",
       "        vertical-align: top;\n",
       "    }\n",
       "\n",
       "    .dataframe thead th {\n",
       "        text-align: right;\n",
       "    }\n",
       "</style>\n",
       "<table border=\"1\" class=\"dataframe\">\n",
       "  <thead>\n",
       "    <tr style=\"text-align: right;\">\n",
       "      <th></th>\n",
       "      <th>SPY</th>\n",
       "      <th>AGG</th>\n",
       "      <th>EFA</th>\n",
       "      <th>EEM</th>\n",
       "      <th>LQD</th>\n",
       "      <th>IEF</th>\n",
       "      <th>SHY</th>\n",
       "      <th>Indicator</th>\n",
       "    </tr>\n",
       "    <tr>\n",
       "      <th>timestamp</th>\n",
       "      <th></th>\n",
       "      <th></th>\n",
       "      <th></th>\n",
       "      <th></th>\n",
       "      <th></th>\n",
       "      <th></th>\n",
       "      <th></th>\n",
       "      <th></th>\n",
       "    </tr>\n",
       "  </thead>\n",
       "  <tbody>\n",
       "    <tr>\n",
       "      <th>2017-09-29</th>\n",
       "      <td>0.630242</td>\n",
       "      <td>-0.095409</td>\n",
       "      <td>0.841509</td>\n",
       "      <td>0.796887</td>\n",
       "      <td>0.026885</td>\n",
       "      <td>-0.224357</td>\n",
       "      <td>-0.043081</td>\n",
       "      <td>LQD</td>\n",
       "    </tr>\n",
       "    <tr>\n",
       "      <th>2017-10-31</th>\n",
       "      <td>0.821054</td>\n",
       "      <td>-0.032121</td>\n",
       "      <td>0.749895</td>\n",
       "      <td>1.176776</td>\n",
       "      <td>0.029542</td>\n",
       "      <td>-0.110077</td>\n",
       "      <td>-0.049771</td>\n",
       "      <td>LQD</td>\n",
       "    </tr>\n",
       "    <tr>\n",
       "      <th>2017-11-30</th>\n",
       "      <td>1.047712</td>\n",
       "      <td>-0.096997</td>\n",
       "      <td>0.631815</td>\n",
       "      <td>0.603100</td>\n",
       "      <td>-0.037711</td>\n",
       "      <td>-0.171872</td>\n",
       "      <td>-0.086394</td>\n",
       "      <td>LQD</td>\n",
       "    </tr>\n",
       "    <tr>\n",
       "      <th>2017-12-29</th>\n",
       "      <td>0.733749</td>\n",
       "      <td>0.026478</td>\n",
       "      <td>0.515784</td>\n",
       "      <td>1.094493</td>\n",
       "      <td>0.154199</td>\n",
       "      <td>-0.062788</td>\n",
       "      <td>-0.077804</td>\n",
       "      <td>EEM</td>\n",
       "    </tr>\n",
       "    <tr>\n",
       "      <th>2018-01-31</th>\n",
       "      <td>1.584975</td>\n",
       "      <td>-0.215090</td>\n",
       "      <td>1.289112</td>\n",
       "      <td>2.103068</td>\n",
       "      <td>-0.176415</td>\n",
       "      <td>-0.448897</td>\n",
       "      <td>-0.101025</td>\n",
       "      <td>SHY</td>\n",
       "    </tr>\n",
       "    <tr>\n",
       "      <th>2018-02-28</th>\n",
       "      <td>0.007909</td>\n",
       "      <td>-0.317373</td>\n",
       "      <td>-0.305730</td>\n",
       "      <td>-0.134892</td>\n",
       "      <td>-0.506558</td>\n",
       "      <td>-0.409951</td>\n",
       "      <td>-0.095022</td>\n",
       "      <td>SHY</td>\n",
       "    </tr>\n",
       "    <tr>\n",
       "      <th>2018-03-29</th>\n",
       "      <td>-0.219928</td>\n",
       "      <td>-0.076286</td>\n",
       "      <td>0.017090</td>\n",
       "      <td>0.544013</td>\n",
       "      <td>-0.172176</td>\n",
       "      <td>-0.055630</td>\n",
       "      <td>-0.029012</td>\n",
       "      <td>SHY</td>\n",
       "    </tr>\n",
       "    <tr>\n",
       "      <th>2018-04-30</th>\n",
       "      <td>-0.016480</td>\n",
       "      <td>-0.310711</td>\n",
       "      <td>0.155278</td>\n",
       "      <td>-0.461291</td>\n",
       "      <td>-0.512819</td>\n",
       "      <td>-0.365218</td>\n",
       "      <td>-0.098303</td>\n",
       "      <td>SHY</td>\n",
       "    </tr>\n",
       "    <tr>\n",
       "      <th>2018-05-31</th>\n",
       "      <td>0.448191</td>\n",
       "      <td>-0.037642</td>\n",
       "      <td>-0.246528</td>\n",
       "      <td>-0.417471</td>\n",
       "      <td>-0.151303</td>\n",
       "      <td>0.003708</td>\n",
       "      <td>0.000828</td>\n",
       "      <td>IEF</td>\n",
       "    </tr>\n",
       "    <tr>\n",
       "      <th>2018-06-19</th>\n",
       "      <td>0.565365</td>\n",
       "      <td>-0.185228</td>\n",
       "      <td>-0.509293</td>\n",
       "      <td>-0.915219</td>\n",
       "      <td>-0.364928</td>\n",
       "      <td>-0.190390</td>\n",
       "      <td>-0.069247</td>\n",
       "      <td>SHY</td>\n",
       "    </tr>\n",
       "  </tbody>\n",
       "</table>\n",
       "</div>"
      ],
      "text/plain": [
       "                 SPY       AGG       EFA       EEM       LQD       IEF  \\\n",
       "timestamp                                                                \n",
       "2017-09-29  0.630242 -0.095409  0.841509  0.796887  0.026885 -0.224357   \n",
       "2017-10-31  0.821054 -0.032121  0.749895  1.176776  0.029542 -0.110077   \n",
       "2017-11-30  1.047712 -0.096997  0.631815  0.603100 -0.037711 -0.171872   \n",
       "2017-12-29  0.733749  0.026478  0.515784  1.094493  0.154199 -0.062788   \n",
       "2018-01-31  1.584975 -0.215090  1.289112  2.103068 -0.176415 -0.448897   \n",
       "2018-02-28  0.007909 -0.317373 -0.305730 -0.134892 -0.506558 -0.409951   \n",
       "2018-03-29 -0.219928 -0.076286  0.017090  0.544013 -0.172176 -0.055630   \n",
       "2018-04-30 -0.016480 -0.310711  0.155278 -0.461291 -0.512819 -0.365218   \n",
       "2018-05-31  0.448191 -0.037642 -0.246528 -0.417471 -0.151303  0.003708   \n",
       "2018-06-19  0.565365 -0.185228 -0.509293 -0.915219 -0.364928 -0.190390   \n",
       "\n",
       "                 SHY Indicator  \n",
       "timestamp                       \n",
       "2017-09-29 -0.043081       LQD  \n",
       "2017-10-31 -0.049771       LQD  \n",
       "2017-11-30 -0.086394       LQD  \n",
       "2017-12-29 -0.077804       EEM  \n",
       "2018-01-31 -0.101025       SHY  \n",
       "2018-02-28 -0.095022       SHY  \n",
       "2018-03-29 -0.029012       SHY  \n",
       "2018-04-30 -0.098303       SHY  \n",
       "2018-05-31  0.000828       IEF  \n",
       "2018-06-19 -0.069247       SHY  "
      ]
     },
     "execution_count": 114,
     "metadata": {},
     "output_type": "execute_result"
    }
   ],
   "source": [
    "Maindf_EOM_VAA.tail(10)"
   ]
  },
  {
   "cell_type": "code",
   "execution_count": 115,
   "metadata": {},
   "outputs": [],
   "source": [
    "Maindf_EOM_VAA.columns = ['SPY_MOMP','AGG_MOMP','EFA_MOMP','EEM_MOMP','LQD_MOMP','IEF_MOMP','SHY_MOMP','indicator']"
   ]
  },
  {
   "cell_type": "code",
   "execution_count": null,
   "metadata": {},
   "outputs": [],
   "source": []
  },
  {
   "cell_type": "code",
   "execution_count": 116,
   "metadata": {},
   "outputs": [],
   "source": [
    "Maindf_Merged = Maindf_EOM.join(Maindf_EOM_VAA, how = \"left\").dropna()"
   ]
  },
  {
   "cell_type": "code",
   "execution_count": null,
   "metadata": {},
   "outputs": [],
   "source": []
  },
  {
   "cell_type": "code",
   "execution_count": 117,
   "metadata": {},
   "outputs": [],
   "source": [
    "Maindf_Daily = Maindf[['SPY','AGG','EFA','EEM','LQD','IEF','SHY']]\n",
    "Maindf_Daily_MOMP = Maindf_Daily.pct_change(252) + 2 * Maindf_Daily.pct_change(132) + 4 * Maindf_Daily.pct_change(66) + 12 * Maindf_Daily.pct_change(22)\n",
    "Maindf_Daily_MOMP['Indicator Daily'] = np.where(Maindf_Daily_MOMP[['SPY','AGG','EFA','EEM']].min(axis = 1) > 0, Maindf_Daily_MOMP[['SPY','AGG','EFA','EEM']].idxmax(axis = 1), Maindf_Daily_MOMP[['LQD','IEF','SHY']].idxmax(axis = 1))\n",
    "\n"
   ]
  },
  {
   "cell_type": "code",
   "execution_count": 118,
   "metadata": {},
   "outputs": [],
   "source": [
    "test = Maindf_Daily.join(Maindf_EOM_VAA, how = \"left\")"
   ]
  },
  {
   "cell_type": "code",
   "execution_count": 124,
   "metadata": {},
   "outputs": [],
   "source": [
    "test['indicator_new'] = test.indicator.ffill()"
   ]
  },
  {
   "cell_type": "code",
   "execution_count": 127,
   "metadata": {},
   "outputs": [
    {
     "ename": "KeyError",
     "evalue": "'One or more column labels was not found'",
     "output_type": "error",
     "traceback": [
      "\u001b[1;31m---------------------------------------------------------------------------\u001b[0m",
      "\u001b[1;31mKeyError\u001b[0m                                  Traceback (most recent call last)",
      "\u001b[1;32m<ipython-input-127-a077e3e2e7bf>\u001b[0m in \u001b[0;36m<module>\u001b[1;34m()\u001b[0m\n\u001b[1;32m----> 1\u001b[1;33m \u001b[0mtest\u001b[0m\u001b[1;33m[\u001b[0m\u001b[1;34m'something'\u001b[0m\u001b[1;33m]\u001b[0m \u001b[1;33m=\u001b[0m \u001b[0mtest\u001b[0m\u001b[1;33m.\u001b[0m\u001b[0mlookup\u001b[0m\u001b[1;33m(\u001b[0m\u001b[0mtest\u001b[0m\u001b[1;33m.\u001b[0m\u001b[0mindex\u001b[0m\u001b[1;33m,\u001b[0m \u001b[0mtest\u001b[0m\u001b[1;33m[\u001b[0m\u001b[1;34m'indicator_new'\u001b[0m\u001b[1;33m]\u001b[0m\u001b[1;33m)\u001b[0m\u001b[1;33m\u001b[0m\u001b[0m\n\u001b[0m",
      "\u001b[1;32m~\\AppData\\Local\\Continuum\\anaconda3\\lib\\site-packages\\pandas\\core\\frame.py\u001b[0m in \u001b[0;36mlookup\u001b[1;34m(self, row_labels, col_labels)\u001b[0m\n\u001b[0;32m   2840\u001b[0m                 \u001b[1;32mraise\u001b[0m \u001b[0mKeyError\u001b[0m\u001b[1;33m(\u001b[0m\u001b[1;34m'One or more row labels was not found'\u001b[0m\u001b[1;33m)\u001b[0m\u001b[1;33m\u001b[0m\u001b[0m\n\u001b[0;32m   2841\u001b[0m             \u001b[1;32mif\u001b[0m \u001b[1;33m(\u001b[0m\u001b[0mcidx\u001b[0m \u001b[1;33m==\u001b[0m \u001b[1;33m-\u001b[0m\u001b[1;36m1\u001b[0m\u001b[1;33m)\u001b[0m\u001b[1;33m.\u001b[0m\u001b[0many\u001b[0m\u001b[1;33m(\u001b[0m\u001b[1;33m)\u001b[0m\u001b[1;33m:\u001b[0m\u001b[1;33m\u001b[0m\u001b[0m\n\u001b[1;32m-> 2842\u001b[1;33m                 \u001b[1;32mraise\u001b[0m \u001b[0mKeyError\u001b[0m\u001b[1;33m(\u001b[0m\u001b[1;34m'One or more column labels was not found'\u001b[0m\u001b[1;33m)\u001b[0m\u001b[1;33m\u001b[0m\u001b[0m\n\u001b[0m\u001b[0;32m   2843\u001b[0m             \u001b[0mflat_index\u001b[0m \u001b[1;33m=\u001b[0m \u001b[0mridx\u001b[0m \u001b[1;33m*\u001b[0m \u001b[0mlen\u001b[0m\u001b[1;33m(\u001b[0m\u001b[0mself\u001b[0m\u001b[1;33m.\u001b[0m\u001b[0mcolumns\u001b[0m\u001b[1;33m)\u001b[0m \u001b[1;33m+\u001b[0m \u001b[0mcidx\u001b[0m\u001b[1;33m\u001b[0m\u001b[0m\n\u001b[0;32m   2844\u001b[0m             \u001b[0mresult\u001b[0m \u001b[1;33m=\u001b[0m \u001b[0mvalues\u001b[0m\u001b[1;33m.\u001b[0m\u001b[0mflat\u001b[0m\u001b[1;33m[\u001b[0m\u001b[0mflat_index\u001b[0m\u001b[1;33m]\u001b[0m\u001b[1;33m\u001b[0m\u001b[0m\n",
      "\u001b[1;31mKeyError\u001b[0m: 'One or more column labels was not found'"
     ]
    }
   ],
   "source": [
    "test['something'] = test.lookup(test.index, test['indicator_new'])"
   ]
  },
  {
   "cell_type": "code",
   "execution_count": 134,
   "metadata": {},
   "outputs": [],
   "source": [
    "df = test[['SPY','AGG','EFA','EEM','LQD','IEF','SHY','indicator_new']].dropna()"
   ]
  },
  {
   "cell_type": "code",
   "execution_count": 138,
   "metadata": {},
   "outputs": [],
   "source": [
    "df['VAA_Prices'] = df.lookup(df.index, df.indicator_new)"
   ]
  },
  {
   "cell_type": "code",
   "execution_count": 140,
   "metadata": {},
   "outputs": [
    {
     "data": {
      "text/plain": [
       "timestamp\n",
       "2004-09-30         NaN\n",
       "2004-10-01    0.018950\n",
       "2004-10-04    0.016921\n",
       "2004-10-05   -0.007410\n",
       "2004-10-06    0.011484\n",
       "2004-10-07   -0.008559\n",
       "2004-10-08   -0.007330\n",
       "2004-10-11    0.005193\n",
       "2004-10-12   -0.015890\n",
       "2004-10-13   -0.013650\n",
       "2004-10-14   -0.013721\n",
       "2004-10-15    0.013257\n",
       "2004-10-18    0.010561\n",
       "2004-10-19   -0.004834\n",
       "2004-10-20   -0.006307\n",
       "2004-10-21    0.014293\n",
       "2004-10-22   -0.007179\n",
       "2004-10-25    0.002705\n",
       "2004-10-26    0.003615\n",
       "2004-10-27    0.017036\n",
       "2004-10-28   -0.004967\n",
       "2004-10-29    0.003897\n",
       "2004-11-01    0.007413\n",
       "2004-11-02    0.002291\n",
       "2004-11-03    0.014464\n",
       "2004-11-04    0.015017\n",
       "2004-11-05    0.003787\n",
       "2004-11-08   -0.011349\n",
       "2004-11-09    0.006424\n",
       "2004-11-10    0.001139\n",
       "                ...   \n",
       "2018-05-08    0.000060\n",
       "2018-05-09   -0.000421\n",
       "2018-05-10    0.000000\n",
       "2018-05-11    0.000000\n",
       "2018-05-14    0.000000\n",
       "2018-05-15   -0.000601\n",
       "2018-05-16    0.000000\n",
       "2018-05-17    0.000241\n",
       "2018-05-18    0.000481\n",
       "2018-05-21    0.000000\n",
       "2018-05-22    0.000000\n",
       "2018-05-23    0.000841\n",
       "2018-05-24    0.000600\n",
       "2018-05-25    0.000840\n",
       "2018-05-29    0.002875\n",
       "2018-05-30   -0.001197\n",
       "2018-05-31    0.205114\n",
       "2018-06-01   -0.005674\n",
       "2018-06-04   -0.003538\n",
       "2018-06-05    0.002557\n",
       "2018-06-06   -0.004034\n",
       "2018-06-07    0.004231\n",
       "2018-06-08   -0.001376\n",
       "2018-06-11   -0.000984\n",
       "2018-06-12   -0.000591\n",
       "2018-06-13   -0.001182\n",
       "2018-06-14    0.003150\n",
       "2018-06-15    0.000786\n",
       "2018-06-18    0.000491\n",
       "2018-06-19   -0.201695\n",
       "Name: VAA_Prices, Length: 3454, dtype: float64"
      ]
     },
     "execution_count": 140,
     "metadata": {},
     "output_type": "execute_result"
    }
   ],
   "source": [
    "df['VAA_Prices'].to_log_returns()"
   ]
  },
  {
   "cell_type": "code",
   "execution_count": null,
   "metadata": {},
   "outputs": [],
   "source": []
  },
  {
   "cell_type": "code",
   "execution_count": null,
   "metadata": {},
   "outputs": [],
   "source": []
  },
  {
   "cell_type": "code",
   "execution_count": null,
   "metadata": {},
   "outputs": [],
   "source": []
  },
  {
   "cell_type": "code",
   "execution_count": null,
   "metadata": {},
   "outputs": [],
   "source": []
  },
  {
   "cell_type": "code",
   "execution_count": null,
   "metadata": {},
   "outputs": [],
   "source": [
    "save_xls([Maindf_EOM,Maindf_EOM_VAA,Maindf,Maindf_Merged,Maindf_Daily_MOMP],\"H:\\\\vaa.xlsx\",[\"PRICES END OF MONTH\",\"MOMP\",\"RAW PRICES\",\"MERGED_DF\",\"Maindf_Daily_MOMP\"])"
   ]
  },
  {
   "cell_type": "code",
   "execution_count": null,
   "metadata": {},
   "outputs": [],
   "source": [
    "with open('filename.pickle', 'wb') as handle:\n",
    "    pickle.dump(Maindf, handle, protocol=pickle.HIGHEST_PROTOCOL)"
   ]
  },
  {
   "cell_type": "code",
   "execution_count": null,
   "metadata": {},
   "outputs": [],
   "source": [
    "with open('filename.pickle', 'rb') as handle:\n",
    "    b = pickle.load(handle)"
   ]
  },
  {
   "cell_type": "code",
   "execution_count": null,
   "metadata": {},
   "outputs": [],
   "source": []
  },
  {
   "cell_type": "code",
   "execution_count": null,
   "metadata": {},
   "outputs": [],
   "source": []
  },
  {
   "cell_type": "code",
   "execution_count": null,
   "metadata": {},
   "outputs": [],
   "source": []
  },
  {
   "cell_type": "code",
   "execution_count": null,
   "metadata": {},
   "outputs": [],
   "source": []
  },
  {
   "cell_type": "code",
   "execution_count": null,
   "metadata": {},
   "outputs": [],
   "source": []
  },
  {
   "cell_type": "code",
   "execution_count": null,
   "metadata": {},
   "outputs": [],
   "source": [
    "test = Maindf[['SPY','AGG','EFA','EEM']]"
   ]
  },
  {
   "cell_type": "code",
   "execution_count": null,
   "metadata": {},
   "outputs": [],
   "source": [
    "perf = test.calc_stats()"
   ]
  },
  {
   "cell_type": "code",
   "execution_count": null,
   "metadata": {},
   "outputs": [],
   "source": [
    "perf.display()"
   ]
  },
  {
   "cell_type": "code",
   "execution_count": null,
   "metadata": {},
   "outputs": [],
   "source": [
    "perf.stats"
   ]
  },
  {
   "cell_type": "code",
   "execution_count": null,
   "metadata": {},
   "outputs": [],
   "source": [
    "perf.stats.loc['cagr']"
   ]
  },
  {
   "cell_type": "code",
   "execution_count": null,
   "metadata": {},
   "outputs": [],
   "source": [
    "returns = test.to_log_returns().dropna()\n",
    " \n",
    "print(returns.head())"
   ]
  },
  {
   "cell_type": "code",
   "execution_count": null,
   "metadata": {},
   "outputs": [],
   "source": [
    "ax = returns.hist(figsize=(20, 10),bins=30)"
   ]
  },
  {
   "cell_type": "code",
   "execution_count": null,
   "metadata": {},
   "outputs": [],
   "source": [
    "returns.corr().as_format('.2f')"
   ]
  },
  {
   "cell_type": "code",
   "execution_count": null,
   "metadata": {},
   "outputs": [],
   "source": [
    "returns.plot_corr_heatmap()"
   ]
  },
  {
   "cell_type": "code",
   "execution_count": null,
   "metadata": {},
   "outputs": [],
   "source": [
    "ffn.to_drawdown_series(test).plot(figsize=(15,10))"
   ]
  },
  {
   "cell_type": "code",
   "execution_count": null,
   "metadata": {},
   "outputs": [],
   "source": []
  }
 ],
 "metadata": {
  "kernelspec": {
   "display_name": "Python 3",
   "language": "python",
   "name": "python3"
  },
  "language_info": {
   "codemirror_mode": {
    "name": "ipython",
    "version": 3
   },
   "file_extension": ".py",
   "mimetype": "text/x-python",
   "name": "python",
   "nbconvert_exporter": "python",
   "pygments_lexer": "ipython3",
   "version": "3.6.4"
  }
 },
 "nbformat": 4,
 "nbformat_minor": 2
}
