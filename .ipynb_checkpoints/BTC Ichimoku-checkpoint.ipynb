{
 "cells": [
  {
   "cell_type": "code",
   "execution_count": 1,
   "metadata": {},
   "outputs": [
    {
     "name": "stderr",
     "output_type": "stream",
     "text": [
      "C:\\Users\\xexx\\Anaconda3\\lib\\site-packages\\statsmodels\\compat\\pandas.py:56: FutureWarning: The pandas.core.datetools module is deprecated and will be removed in a future version. Please use the pandas.tseries module instead.\n",
      "  from pandas.core import datetools\n"
     ]
    }
   ],
   "source": [
    "\n",
    "#%% Importing modules and data\n",
    "import smtplib\n",
    "import pandas as pd\n",
    "import numpy as np\n",
    "import datetime as dt\n",
    "# import pandas.stats.moments as st\n",
    "import statsmodels.api as sm # import statsmodels \n",
    "from pandas import ExcelWriter\n",
    "import matplotlib.pyplot as pyplot\n",
    "import scipy.stats as st\n",
    "import os\n",
    "import quandl as qd\n",
    "from collections import defaultdict\n",
    "import seaborn as sns\n",
    "%matplotlib inline\n",
    "\n",
    "def save_xls(list_dfs, xls_path,sheet_names):\n",
    "    writer = ExcelWriter(xls_path)\n",
    "    for n, df in enumerate(list_dfs):\n",
    "        df.to_excel(writer, sheet_names[n])\n",
    "    writer.save()\n",
    "    return"
   ]
  },
  {
   "cell_type": "code",
   "execution_count": 2,
   "metadata": {
    "collapsed": true
   },
   "outputs": [],
   "source": [
    "# Importing data from Quandl\n",
    "\n",
    "btc = qd.get(\"BITFINEX/BTCUSD\", authtoken=\"-ZxrLoLy3vKgLtLraaMn\")\n",
    "btc.columns = ['High','Low','Mid','Close','Bid','Ask','Volume']"
   ]
  },
  {
   "cell_type": "code",
   "execution_count": 30,
   "metadata": {},
   "outputs": [],
   "source": [
    "def ichimoku_cloud(df):\n",
    "    # Tenkan-sen (Conversion Line): (9-period high + 9-period low)/2))\n",
    "    df['period9_high'] = pd.Series.rolling(df['High'], window=9).max()\n",
    "    df['period9_low'] = pd.Series.rolling(df['Low'], window=9).min()\n",
    "    df['tenkan_sen'] = (df['period9_high'] + df['period9_low']) / 2\n",
    "    \n",
    "    # Kijun-sen (Base Line): (26-period high + 26-period low)/2))\n",
    "    df['period26_high'] = pd.Series.rolling(df['High'], window=26).max()\n",
    "    df['period26_low'] = pd.Series.rolling(df['Low'], window=26).min()\n",
    "    df['kijun_sen'] = (df['period26_high'] + df['period26_low']) / 2\n",
    "    \n",
    "    df['period52_high'] = pd.Series.rolling(df['High'], window=52).max()\n",
    "    df['period52_low'] = pd.Series.rolling(df['Low'], window=52).min()\n",
    "    df['senkou_span_b'] = (df['period52_high'] + df['period52_low'] ) /2 \n",
    "    \n",
    "    df ['chikou_span'] = df['Close'].shift(22) \n",
    "    return df\n"
   ]
  },
  {
   "cell_type": "code",
   "execution_count": null,
   "metadata": {
    "collapsed": true
   },
   "outputs": [],
   "source": []
  }
 ],
 "metadata": {
  "kernelspec": {
   "display_name": "Python 3",
   "language": "python",
   "name": "python3"
  },
  "language_info": {
   "codemirror_mode": {
    "name": "ipython",
    "version": 3
   },
   "file_extension": ".py",
   "mimetype": "text/x-python",
   "name": "python",
   "nbconvert_exporter": "python",
   "pygments_lexer": "ipython3",
   "version": "3.6.1"
  }
 },
 "nbformat": 4,
 "nbformat_minor": 2
}
